{
 "cells": [
  {
   "cell_type": "markdown",
   "id": "71ac0b88",
   "metadata": {},
   "source": [
    "# Preprocessing .mat for NWB"
   ]
  },
  {
   "cell_type": "code",
   "execution_count": 1,
   "id": "eee9f332",
   "metadata": {},
   "outputs": [],
   "source": [
    "import numpy as np\n",
    "import h5py\n",
    "import os\n",
    "import yaml\n",
    "import pandas as pd\n",
    "from datetime import datetime\n",
    "import shutil\n",
    "import importlib\n",
    "import numpy as np\n",
    "import pandas as pd\n",
    "import convert_to_nwb_for_PL\n",
    "import converters.Initiation_nwb\n",
    "import scipy.io\n"
   ]
  },
  {
   "cell_type": "markdown",
   "id": "3b848cdc",
   "metadata": {},
   "source": [
    "# Load data "
   ]
  },
  {
   "cell_type": "markdown",
   "id": "0785ecbc",
   "metadata": {},
   "source": [
    "## .mat files"
   ]
  },
  {
   "cell_type": "code",
   "execution_count": 101,
   "id": "d94a3651",
   "metadata": {},
   "outputs": [],
   "source": [
    "csv_file = \"data/Subject_Session_Selection.csv\"\n",
    "PL = \"data/mouse/General\"\n",
    "PLALL = \"data/mouse/Recording\"\n",
    "PLALL_number1 = \"data/mouse/Recording/PL200_D1.mat\"\n",
    "output_folder = \"data\""
   ]
  },
  {
   "cell_type": "code",
   "execution_count": 12,
   "id": "eff9387a",
   "metadata": {},
   "outputs": [
    {
     "data": {
      "text/plain": [
       "'data/mouse/General/PL200.mat'"
      ]
     },
     "execution_count": 12,
     "metadata": {},
     "output_type": "execute_result"
    }
   ],
   "source": [
    "PL200 = [os.path.join(PL, f) for f in os.listdir(PL)][0]\n",
    "PL200\n"
   ]
  },
  {
   "cell_type": "code",
   "execution_count": 89,
   "id": "6b84ce12",
   "metadata": {},
   "outputs": [
    {
     "name": "stdout",
     "output_type": "stream",
     "text": [
      "Processing file: PL200_D1.mat\n",
      "Processing file: PL200_D2.mat\n",
      "Processing file: PL200_D3.mat\n",
      "Processing file: PL200_D4.mat\n",
      "Processing file: PL200_D5.mat\n",
      "Processing file: PL200_D6.mat\n",
      "Processing file: PL200_D7.mat\n",
      "Processing file: PL200_D8.mat\n"
     ]
    }
   ],
   "source": [
    "for file_name in sorted(os.listdir(PLALL)):\n",
    "    i += 1\n",
    "    file_path = os.path.join(PLALL, file_name)\n",
    "    if os.path.isfile(file_path) and file_name.endswith('.mat'):\n",
    "        print(f\"Processing file: {file_name}\")"
   ]
  },
  {
   "cell_type": "markdown",
   "id": "13ca4ff7",
   "metadata": {},
   "source": [
    "### General"
   ]
  },
  {
   "cell_type": "code",
   "execution_count": 13,
   "id": "c7c3d58c",
   "metadata": {},
   "outputs": [],
   "source": [
    "from scipy.io import loadmat\n",
    "General_data = loadmat(PL200)"
   ]
  },
  {
   "cell_type": "code",
   "execution_count": 14,
   "id": "f2e80769",
   "metadata": {},
   "outputs": [
    {
     "data": {
      "text/plain": [
       "dict"
      ]
     },
     "execution_count": 14,
     "metadata": {},
     "output_type": "execute_result"
    }
   ],
   "source": [
    "type(General_data)"
   ]
  },
  {
   "cell_type": "code",
   "execution_count": 15,
   "id": "f23d0a51",
   "metadata": {},
   "outputs": [
    {
     "name": "stdout",
     "output_type": "stream",
     "text": [
      "dict_keys(['__header__', '__version__', '__globals__', 'LFP_Data', 'LFP_Data_description'])\n"
     ]
    }
   ],
   "source": [
    "print(General_data.keys())\n"
   ]
  },
  {
   "cell_type": "code",
   "execution_count": 20,
   "id": "13cba317",
   "metadata": {},
   "outputs": [
    {
     "name": "stdout",
     "output_type": "stream",
     "text": [
      "b'MATLAB 5.0 MAT-file, Platform: PCWIN64, Created on: Mon Dec 18 12:21:35 2017'\n"
     ]
    }
   ],
   "source": [
    "print(General_data[\"__header__\"])\n"
   ]
  },
  {
   "cell_type": "code",
   "execution_count": 21,
   "id": "4bcd4e15",
   "metadata": {},
   "outputs": [
    {
     "name": "stdout",
     "output_type": "stream",
     "text": [
      "1.0\n"
     ]
    }
   ],
   "source": [
    "print(General_data[\"__version__\"])\n"
   ]
  },
  {
   "cell_type": "code",
   "execution_count": 22,
   "id": "4bc68941",
   "metadata": {},
   "outputs": [
    {
     "name": "stdout",
     "output_type": "stream",
     "text": [
      "[]\n"
     ]
    }
   ],
   "source": [
    "print(General_data[\"__globals__\"])\n"
   ]
  },
  {
   "cell_type": "code",
   "execution_count": 16,
   "id": "b699a92f",
   "metadata": {},
   "outputs": [
    {
     "name": "stdout",
     "output_type": "stream",
     "text": [
      "[[(array([[array(['PL200'], dtype='<U5')],\n",
      "         [array(['PL200'], dtype='<U5')],\n",
      "         [array(['PL200'], dtype='<U5')],\n",
      "         ...,\n",
      "         [array(['PL200'], dtype='<U5')],\n",
      "         [array(['PL200'], dtype='<U5')],\n",
      "         [array(['PL200'], dtype='<U5')]], dtype=object), array([[array(['C57BL/6JRj'], dtype='<U10')],\n",
      "         [array(['C57BL/6JRj'], dtype='<U10')],\n",
      "         [array(['C57BL/6JRj'], dtype='<U10')],\n",
      "         ...,\n",
      "         [array(['C57BL/6JRj'], dtype='<U10')],\n",
      "         [array(['C57BL/6JRj'], dtype='<U10')],\n",
      "         [array(['C57BL/6JRj'], dtype='<U10')]], dtype=object), array([[array(['m'], dtype='<U1')],\n",
      "         [array(['m'], dtype='<U1')],\n",
      "         [array(['m'], dtype='<U1')],\n",
      "         ...,\n",
      "         [array(['m'], dtype='<U1')],\n",
      "         [array(['m'], dtype='<U1')],\n",
      "         [array(['m'], dtype='<U1')]], dtype=object), array([[array([[array([], dtype='<U1')]], dtype=object)],\n",
      "         [array([[array([], dtype='<U1')]], dtype=object)],\n",
      "         [array([[array([], dtype='<U1')]], dtype=object)],\n",
      "         ...,\n",
      "         [array([[array([], dtype='<U1')]], dtype=object)],\n",
      "         [array([[array([], dtype='<U1')]], dtype=object)],\n",
      "         [array([[array([], dtype='<U1')]], dtype=object)]], dtype=object), array([[1],\n",
      "         [1],\n",
      "         [1],\n",
      "         ...,\n",
      "         [8],\n",
      "         [8],\n",
      "         [8]], dtype=uint8), array([[array([[2014]], dtype=uint16), array([[6]], dtype=uint8),\n",
      "          array([[19]], dtype=uint8), array([[14]], dtype=uint8),\n",
      "          array([[20]], dtype=uint8), array([[55.0002499]])],\n",
      "         [array([[2014]], dtype=uint16), array([[6]], dtype=uint8),\n",
      "          array([[19]], dtype=uint8), array([[14]], dtype=uint8),\n",
      "          array([[20]], dtype=uint8), array([[55.0002499]])],\n",
      "         [array([[2014]], dtype=uint16), array([[6]], dtype=uint8),\n",
      "          array([[19]], dtype=uint8), array([[14]], dtype=uint8),\n",
      "          array([[20]], dtype=uint8), array([[55.0002499]])],\n",
      "         ...,\n",
      "         [array([[2014]], dtype=uint16), array([[6]], dtype=uint8),\n",
      "          array([[26]], dtype=uint8), array([[14]], dtype=uint8),\n",
      "          array([[26]], dtype=uint8), array([[54.0005]])],\n",
      "         [array([[2014]], dtype=uint16), array([[6]], dtype=uint8),\n",
      "          array([[26]], dtype=uint8), array([[14]], dtype=uint8),\n",
      "          array([[26]], dtype=uint8), array([[54.0005]])],\n",
      "         [array([[2014]], dtype=uint16), array([[6]], dtype=uint8),\n",
      "          array([[26]], dtype=uint8), array([[14]], dtype=uint8),\n",
      "          array([[26]], dtype=uint8), array([[54.0005]])]], dtype=object), array([[array(['DT'], dtype='<U2')],\n",
      "         [array(['DT'], dtype='<U2')],\n",
      "         [array(['DT'], dtype='<U2')],\n",
      "         ...,\n",
      "         [array(['DT'], dtype='<U2')],\n",
      "         [array(['DT'], dtype='<U2')],\n",
      "         [array(['DT'], dtype='<U2')]], dtype=object), array([[   1],\n",
      "         [   2],\n",
      "         [   3],\n",
      "         ...,\n",
      "         [1300],\n",
      "         [1301],\n",
      "         [1302]], dtype=uint16), array([[  25751],\n",
      "         [  47643],\n",
      "         [  72935],\n",
      "         ...,\n",
      "         [3940377],\n",
      "         [3960173],\n",
      "         [3972869]], dtype=int32), array([[0],\n",
      "         [2],\n",
      "         [2],\n",
      "         ...,\n",
      "         [2],\n",
      "         [2],\n",
      "         [2]], dtype=uint8), array([[-1.0433e-05,  3.3300e-05,  4.2933e-05, ..., -1.0200e-05,\n",
      "          -4.8633e-05, -6.2330e-06],\n",
      "         [-7.7670e-06,  3.0567e-05,  7.3330e-06, ...,  1.9700e-05,\n",
      "          -1.2330e-06, -1.4167e-05],\n",
      "         [ 1.0333e-05,  1.0033e-05,  3.2633e-05, ...,  1.6533e-05,\n",
      "           8.4633e-05,  2.1000e-05],\n",
      "         ...,\n",
      "         [ 4.3000e-06,  3.1330e-06,  4.4330e-06, ...,  9.5000e-06,\n",
      "           3.6670e-06,  9.0000e-06],\n",
      "         [ 4.8330e-06,  5.7000e-06,  8.6700e-07, ...,  1.9000e-06,\n",
      "           5.9670e-06,  6.8670e-06],\n",
      "         [ 8.8330e-06,  2.3000e-06,  1.0300e-05, ...,  7.7000e-06,\n",
      "           1.8200e-05,  4.4670e-06]]), array([[ 4.30239867e-05,  3.96957163e-05,  3.61033253e-05, ...,\n",
      "           5.93254013e-05,  6.29065824e-05,  6.54297343e-05],\n",
      "         [ 7.03833474e-05,  8.24166399e-05,  9.31797006e-05, ...,\n",
      "          -1.00695430e-04, -1.02463586e-04, -1.03837448e-04],\n",
      "         [-1.60671575e-04, -1.57600262e-04, -1.53906014e-04, ...,\n",
      "          -1.33357040e-04, -1.32754670e-04, -1.31471162e-04],\n",
      "         ...,\n",
      "         [ 4.27718615e-05,  4.06788218e-05,  3.77989492e-05, ...,\n",
      "          -2.72903851e-04, -2.71265599e-04, -2.68932522e-04],\n",
      "         [ 1.00302535e-04,  9.59856239e-05,  9.33930630e-05, ...,\n",
      "           8.95880758e-05,  8.71808618e-05,  8.52753753e-05],\n",
      "         [-1.70600788e-04, -1.68466295e-04, -1.63862520e-04, ...,\n",
      "          -3.39395368e-05, -3.46355395e-05, -3.43382315e-05]]), array([[nan, nan, nan, ..., nan, nan, nan],\n",
      "         [nan, nan, nan, ..., nan, nan, nan],\n",
      "         [nan, nan, nan, ..., nan, nan, nan],\n",
      "         ...,\n",
      "         [nan, nan, nan, ..., nan, nan, nan],\n",
      "         [nan, nan, nan, ..., nan, nan, nan],\n",
      "         [nan, nan, nan, ..., nan, nan, nan]]), array([[ 4.73674105e-05,  4.96778903e-05,  5.07237019e-05, ...,\n",
      "           4.60485749e-05,  5.25537663e-05,  5.97875552e-05],\n",
      "         [-1.10777369e-04, -1.05727123e-04, -9.98226203e-05, ...,\n",
      "          -1.36126714e-04, -1.28985352e-04, -1.20212191e-04],\n",
      "         [ 1.90421052e-05,  2.71175215e-05,  3.52008201e-05, ...,\n",
      "          -5.70223771e-05, -6.38076700e-05, -7.06852018e-05],\n",
      "         ...,\n",
      "         [-8.48330334e-05, -8.30055740e-05, -8.23347397e-05, ...,\n",
      "          -1.10351811e-04, -1.13144111e-04, -1.15144601e-04],\n",
      "         [-1.04263920e-04, -1.15624862e-04, -1.25815770e-04, ...,\n",
      "          -9.51701523e-05, -1.09253229e-04, -1.22544333e-04],\n",
      "         [-1.94728532e-04, -1.94565401e-04, -1.93576380e-04, ...,\n",
      "           3.23738755e-04,  3.27311425e-04,  3.29885275e-04]]), array([[ 8.17511393e-05,  8.30042150e-05,  8.33086001e-05, ...,\n",
      "          -4.09544937e-05, -3.54391303e-05, -3.01593212e-05],\n",
      "         [ 2.56520250e-05,  3.23713386e-05,  3.81399962e-05, ...,\n",
      "          -8.35699768e-05, -8.80335597e-05, -9.15693686e-05],\n",
      "         [ 3.99338668e-05,  4.62069020e-05,  5.33323697e-05, ...,\n",
      "          -1.24125835e-04, -1.21332893e-04, -1.18083219e-04],\n",
      "         ...,\n",
      "         [ 3.88305058e-05,  3.55905774e-05,  3.17467785e-05, ...,\n",
      "          -3.42477512e-05, -3.47212233e-05, -3.39390267e-05],\n",
      "         [ 2.00069913e-05,  2.05433939e-05,  2.16652435e-05, ...,\n",
      "           5.44063497e-05,  4.73467104e-05,  3.99178906e-05],\n",
      "         [-4.51608096e-05, -3.43239616e-05, -2.11551036e-05, ...,\n",
      "           5.43601074e-05,  5.64335288e-05,  5.71524247e-05]]), array([[-1.47376857e-04, -1.35204790e-04, -1.24107912e-04, ...,\n",
      "          -9.46102158e-05, -8.78187918e-05, -8.13428522e-05],\n",
      "         [-1.06900466e-04, -1.06696624e-04, -1.09703961e-04, ...,\n",
      "           3.79157664e-05,  3.22293949e-05,  2.75313114e-05],\n",
      "         [-9.64946996e-05, -9.68145938e-05, -9.68799919e-05, ...,\n",
      "           6.89473114e-05,  7.24137970e-05,  7.58604960e-05],\n",
      "         ...,\n",
      "         [-1.82633517e-04, -1.74177636e-04, -1.66164789e-04, ...,\n",
      "           1.08547251e-04,  1.08840117e-04,  1.08826909e-04],\n",
      "         [-1.14274199e-04, -1.01266770e-04, -8.76789953e-05, ...,\n",
      "          -1.05894655e-04, -1.11634894e-04, -1.15356290e-04],\n",
      "         [ 1.14940794e-04,  1.08490829e-04,  1.00067712e-04, ...,\n",
      "           9.47709669e-05,  7.99888061e-05,  6.43538446e-05]]), array([[ 7.43821102e-05,  6.74017636e-05,  5.94300073e-05, ...,\n",
      "          -1.66810620e-05, -1.69509799e-05, -1.62033985e-05],\n",
      "         [-3.65268002e-05, -3.48686137e-05, -3.21588801e-05, ...,\n",
      "          -6.03351165e-05, -5.85358314e-05, -5.60405794e-05],\n",
      "         [-6.69558295e-06, -8.51939351e-07,  5.98652501e-06, ...,\n",
      "          -1.42621373e-04, -1.33230498e-04, -1.22561228e-04],\n",
      "         ...,\n",
      "         [-1.11604316e-04, -1.11955286e-04, -1.11695762e-04, ...,\n",
      "          -7.81886962e-05, -7.27054430e-05, -6.71953542e-05],\n",
      "         [ 6.45382199e-05,  6.33098330e-05,  6.26068600e-05, ...,\n",
      "          -1.98581235e-04, -1.90018013e-04, -1.82453285e-04],\n",
      "         [ 1.49789255e-04,  1.47008971e-04,  1.43455290e-04, ...,\n",
      "           2.52698034e-05,  2.09159672e-05,  1.57249199e-05]]), array([[nan],\n",
      "         [nan],\n",
      "         [nan],\n",
      "         ...,\n",
      "         [nan],\n",
      "         [nan],\n",
      "         [nan]]))                                                                                                              ]]\n"
     ]
    }
   ],
   "source": [
    "\n",
    "print(General_data[\"LFP_Data\"])\n",
    "\n"
   ]
  },
  {
   "cell_type": "code",
   "execution_count": 17,
   "id": "0f06e7d2",
   "metadata": {},
   "outputs": [
    {
     "name": "stdout",
     "output_type": "stream",
     "text": [
      "PL200\n"
     ]
    }
   ],
   "source": [
    "# Mouse Name\n",
    "print(General_data[\"LFP_Data\"][0][0][0][0][0][0])\n"
   ]
  },
  {
   "cell_type": "code",
   "execution_count": null,
   "id": "ea897de2",
   "metadata": {},
   "outputs": [
    {
     "name": "stdout",
     "output_type": "stream",
     "text": [
      "[[1]\n",
      " [1]\n",
      " [1]\n",
      " ...\n",
      " [8]\n",
      " [8]\n",
      " [8]]\n",
      "Unique values: [1 2 3 4 5 6 7 8]\n",
      "Indices: [   0  164  332  429  516  695  921 1123]\n"
     ]
    }
   ],
   "source": [
    "# id session \n",
    "print(General_data[\"LFP_Data\"][0][0][4])\n",
    "unique_values, unique_indices = np.unique(General_data[\"LFP_Data\"][0][0][4], return_index=True)\n",
    "print(\"Unique values:\", unique_values)\n",
    "print(\"Indices:\", unique_indices)\n",
    "\n"
   ]
  },
  {
   "cell_type": "code",
   "execution_count": 75,
   "id": "561d09b4",
   "metadata": {},
   "outputs": [
    {
     "name": "stdout",
     "output_type": "stream",
     "text": [
      "[array([[2014]], dtype=uint16) array([[6]], dtype=uint8)\n",
      " array([[20]], dtype=uint8) array([[15]], dtype=uint8)\n",
      " array([[31]], dtype=uint8) array([[20.0009999]])]\n",
      "Start time: 142055\n",
      "DT\n"
     ]
    }
   ],
   "source": [
    "i=0\n",
    "# Start date (dd.mm.yy)\n",
    "print(General_data[\"LFP_Data\"][0][0][5][unique_indices[1]])\n",
    "\n",
    "# Start time (hhmmss)\n",
    "## hh\n",
    "hh = str(General_data[\"LFP_Data\"][0][0][5][unique_indices[i]][3][0][0])\n",
    "## mm\n",
    "if len(str(General_data[\"LFP_Data\"][0][0][5][unique_indices[i]][4][0][0])) == 1:\n",
    "    mm= \"0\" + str(General_data[\"LFP_Data\"][0][0][5][unique_indices[i]][4][0][0])\n",
    "else:\n",
    "    mm = str(General_data[\"LFP_Data\"][0][0][5][unique_indices[i]][4][0][0])\n",
    "## ss\n",
    "ss = str(General_data[\"LFP_Data\"][0][0][5][unique_indices[i]][5][0][0])\n",
    "\n",
    "start_time = hh + mm +  ss[:2]\n",
    "print(\"Start time:\", start_time)\n",
    "\n",
    "\n",
    "#Behavior Type\n",
    "print(str(General_data[\"LFP_Data\"][0][0][6][unique_indices[i]][0][0]))\n"
   ]
  },
  {
   "cell_type": "code",
   "execution_count": null,
   "id": "a06745ce",
   "metadata": {},
   "outputs": [
    {
     "name": "stdout",
     "output_type": "stream",
     "text": [
      "C57BL/6JRj\n"
     ]
    }
   ],
   "source": [
    "# Strain\n",
    "print(General_data[\"LFP_Data\"][0][0][1][0][0][0])"
   ]
  },
  {
   "cell_type": "code",
   "execution_count": 36,
   "id": "a2cd887d",
   "metadata": {},
   "outputs": [
    {
     "name": "stdout",
     "output_type": "stream",
     "text": [
      "m\n"
     ]
    }
   ],
   "source": [
    "# sex \n",
    "print(General_data[\"LFP_Data\"][0][0][2][0][0][0])"
   ]
  },
  {
   "cell_type": "code",
   "execution_count": null,
   "id": "d5e24094",
   "metadata": {},
   "outputs": [
    {
     "name": "stdout",
     "output_type": "stream",
     "text": [
      "[]\n"
     ]
    }
   ],
   "source": [
    "# birth date \n",
    "print(str(General_data[\"LFP_Data\"][0][0][3][0][0][0][0]))"
   ]
  },
  {
   "cell_type": "code",
   "execution_count": 165,
   "id": "2ce0e6b2",
   "metadata": {},
   "outputs": [],
   "source": [
    "# trial onset \n",
    "rien = unique_indices[1]\n",
    "trial = np.asarray(General_data[\"LFP_Data\"][0][0][8]).flatten()\n",
    "trialonset_avant= trial[0:rien]"
   ]
  },
  {
   "cell_type": "code",
   "execution_count": null,
   "id": "08ec7a6b",
   "metadata": {},
   "outputs": [],
   "source": [
    "\n",
    "print(General_data[\"LFP_Data_description\"])"
   ]
  },
  {
   "cell_type": "markdown",
   "id": "06ca0f91",
   "metadata": {},
   "source": [
    "### ALL (number1)"
   ]
  },
  {
   "cell_type": "code",
   "execution_count": 102,
   "id": "d5df6c09",
   "metadata": {},
   "outputs": [],
   "source": [
    "from scipy.io import loadmat\n",
    "pli = loadmat(PLALL_number1)"
   ]
  },
  {
   "cell_type": "code",
   "execution_count": 103,
   "id": "62b6ee8c",
   "metadata": {},
   "outputs": [
    {
     "data": {
      "text/plain": [
       "dict_keys(['__header__', '__version__', '__globals__', 'Catch_times', 'EMG', 'PtA', 'Stim_times', 'Valve_times', 'dCA1', 'lick', 'mPFC', 'wM1', 'wS1'])"
      ]
     },
     "execution_count": 103,
     "metadata": {},
     "output_type": "execute_result"
    }
   ],
   "source": [
    "pli.keys()"
   ]
  },
  {
   "cell_type": "code",
   "execution_count": 209,
   "id": "50129054",
   "metadata": {},
   "outputs": [],
   "source": [
    "# Ws2\n",
    "if \"wM1\" in pli.keys():\n",
    "    wM1= np.asarray(pli[\"wM1\"][0][0][1]).flatten()\n",
    "else:\n",
    "    print(\"wM1 not found in pli\")\n"
   ]
  },
  {
   "cell_type": "code",
   "execution_count": null,
   "id": "3da62222",
   "metadata": {},
   "outputs": [
    {
     "data": {
      "text/plain": [
       "{'__header__': b'MATLAB 5.0 MAT-file, Platform: MACI64, Created on: Wed Feb  1 10:30:44 2017',\n",
       " '__version__': '1.0',\n",
       " '__globals__': [],\n",
       " 'Catch_times': array([[(array([[  47643,   72935,  121426,  145417,  163214,  184412,  237399,\n",
       "                  262991,  278690,  301383,  392563,  549826,  605312,  625309,\n",
       "                  711686,  735682,  763476,  983423, 1041709, 1066306, 1157984,\n",
       "                 1178979, 1199075, 1232265, 1260158, 1412924, 1795438, 1898712,\n",
       "                 1934504, 1960896, 1988790, 2303217, 2402195, 2474680, 2596551,\n",
       "                 2630341, 2661533, 2852645, 2990011, 3039001, 3161872, 3192166,\n",
       "                 3282244, 3409516, 3473301, 3556281, 3654294, 3892839, 3951923,\n",
       "                 3985515, 4418116, 4484500, 4520590, 4621968, 4792927, 4865714,\n",
       "                 4946893, 5010177, 5060567, 5211033, 5257920, 5303209, 5337003,\n",
       "                 5356998, 5419182, 5597643, 5712114, 5763703, 5811494, 5868678,\n",
       "                 5997548, 6040740, 6077431, 6112123, 6158444, 6177937, 6285510,\n",
       "                 6360992, 6384289, 6411583, 6429977, 6502361, 6581444, 6738106,\n",
       "                 6811988, 6839282, 6874274, 6929961, 6947156, 7036336, 7053431,\n",
       "                 7076826, 7110420]], dtype=int32),)                             ]],\n",
       "       dtype=[('data', 'O')]),\n",
       " 'EMG': array([[(array([[(array(['Detection Task'], dtype='<U14'), array(['171 14:20:55.0002499'], dtype='<U20'), array([[2000]], dtype=uint16), array(['V'], dtype='<U1'), array(['Analog filtering between 10 and 20kHz'], dtype='<U37'))]],\n",
       "               dtype=[('context', 'O'), ('timestamp', 'O'), ('sample_rate', 'O'), ('unit', 'O'), ('comments', 'O')]), array([[ 1.4367e-05],\n",
       "                [ 4.5300e-05],\n",
       "                [-4.7600e-05],\n",
       "                ...,\n",
       "                [-1.1767e-05],\n",
       "                [ 2.5467e-05],\n",
       "                [ 1.5133e-05]]))                                                                                                                                                                                                       ]],\n",
       "       dtype=[('header', 'O'), ('data', 'O')]),\n",
       " 'PtA': array([[(array([[(array(['Detection Task'], dtype='<U14'), array(['171 14:20:55.0002499'], dtype='<U20'), array([[2000]], dtype=uint16), array(['V'], dtype='<U1'), array(['PtA LFP recording, Analog filtering between 0.1 and 1000Hz, tungstene high impedance electrode (10-12MOhm)'],\n",
       "                       dtype='<U106'))                                                                                                                                                                                                                                                   ]],\n",
       "               dtype=[('context', 'O'), ('timestamp', 'O'), ('sample_rate', 'O'), ('unit', 'O'), ('comments', 'O')]), array([[ 2.26600e-06],\n",
       "                [-4.69340e-05],\n",
       "                [ 2.50000e-05],\n",
       "                ...,\n",
       "                [-1.46734e-04],\n",
       "                [-1.30666e-04],\n",
       "                [-9.61340e-05]]))                                                                                                                                                                                                                                                           ]],\n",
       "       dtype=[('header', 'O'), ('data', 'O')]),\n",
       " 'Stim_times': array([[(array([[(array(['Detection Task'], dtype='<U14'), array(['171 14:20:55.0002499'], dtype='<U20'), array([[2000]], dtype=uint16), array(['V'], dtype='<U1'), array(['Stimulation trial times in samples'], dtype='<U34'))]],\n",
       "               dtype=[('context', 'O'), ('timestamp', 'O'), ('sample_rate', 'O'), ('unit', 'O'), ('comments', 'O')]), array([[  25751,   95532,  211808,  318882,  339278,  415958,  443154,\n",
       "                  477842,  521035,  566322,  589317,  655801,  791072,  816367,\n",
       "                  892048,  949035, 1092102, 1304852, 1335645, 1436420, 1562292,\n",
       "                 1581389, 1607481, 1664868, 1732354, 1862124, 2010387, 2053780,\n",
       "                 2128161, 2226039, 2281924, 2499776, 2574958, 2702428, 2780511,\n",
       "                 2804760, 2881941, 2925330, 2949523, 3066294, 3221862, 3310340,\n",
       "                 3503993, 3530387, 3615508, 3695786, 3729378, 4016811, 4063602,\n",
       "                 4110189, 4244259, 4298647, 4338235, 4399721, 4554985, 4688455,\n",
       "                 4724747, 4891309, 4976087, 5095360, 5133453, 5155546, 5179141,\n",
       "                 5233231, 5275017, 5375698, 5398389, 5477172, 5627539, 5669327,\n",
       "                 5735614, 5892775, 5932468, 5958762, 6136219, 6211131, 6317804,\n",
       "                 6444678, 6470972, 6530455, 6614238, 6707214, 6762804, 6893374,\n",
       "                 6975354, 6990049, 7017045]], dtype=int32))                                                                                                                                                                         ]],\n",
       "       dtype=[('header', 'O'), ('data', 'O')]),\n",
       " 'Valve_times': array([[(array([[(array(['Detection Task'], dtype='<U14'), array(['171 14:20:55.0002499'], dtype='<U20'), array([[2000]], dtype=uint16), array(['V'], dtype='<U1'), array(['Valve opening times in samples'], dtype='<U30'))]],\n",
       "               dtype=[('context', 'O'), ('timestamp', 'O'), ('sample_rate', 'O'), ('unit', 'O'), ('comments', 'O')]), array([[ 417655,  478939,  590514,  656500,  791869,  817260,  892845,\n",
       "                  949632, 1093597, 1306749, 1336340, 1437117, 1563188, 1581986,\n",
       "                 1608077, 1665267, 1733151, 1863021, 2010884, 2054273, 2128857,\n",
       "                 2226735, 2282421, 2500272, 2575453, 2703025, 2781006, 2882438,\n",
       "                 2925825, 2950020, 3066894, 3222657, 3311134, 3504491, 3530886,\n",
       "                 3615999, 3696383, 3729874, 4017508, 4064099, 4110686, 4245154,\n",
       "                 4299144, 4338732, 4400218, 4555482, 4688954, 4725344, 4891806,\n",
       "                 4976884, 5095759, 5156143, 5233928, 5275516, 5376194, 5398888,\n",
       "                 5477669, 5628034, 5669824, 5736109, 5893374, 5932865, 5959258,\n",
       "                 6137116, 6211728, 6318301, 6445375, 6471568, 6531152, 6614835,\n",
       "                 6707813, 6763300, 6893870, 7017842]], dtype=int32))                                                                                                                                                            ]],\n",
       "       dtype=[('header', 'O'), ('data', 'O')]),\n",
       " 'dCA1': array([[(array([[(array(['Detection Task'], dtype='<U14'), array(['171 14:20:55.0002499'], dtype='<U20'), array([[2000]], dtype=uint16), array(['V'], dtype='<U1'), array(['dCA1 LFP recording, Analog filtering between 0.1 and 1000Hz, tungstene high impedance electrode (10-12MOhm)'],\n",
       "                       dtype='<U107'))                                                                                                                                                                                                                                                    ]],\n",
       "               dtype=[('context', 'O'), ('timestamp', 'O'), ('sample_rate', 'O'), ('unit', 'O'), ('comments', 'O')]), array([[ 0.00011767],\n",
       "                [ 0.00010753],\n",
       "                [ 0.0001252 ],\n",
       "                ...,\n",
       "                [-0.0002046 ],\n",
       "                [-0.00021273],\n",
       "                [-0.0002146 ]]))                                                                                                                                                                                                                                                             ]],\n",
       "       dtype=[('header', 'O'), ('data', 'O')]),\n",
       " 'lick': array([[(array([[(array(['Detection Task'], dtype='<U14'), array(['171 14:20:55.0002499'], dtype='<U20'), array([[2000]], dtype=uint16), array(['V'], dtype='<U1'), array(['Piezoelectric sensor behavioral channel'], dtype='<U39'))]],\n",
       "               dtype=[('context', 'O'), ('timestamp', 'O'), ('sample_rate', 'O'), ('unit', 'O'), ('comments', 'O')]), array([[ 0.007667],\n",
       "                [ 0.0025  ],\n",
       "                [ 0.0054  ],\n",
       "                ...,\n",
       "                [ 0.000967],\n",
       "                [-0.000633],\n",
       "                [-0.001033]]))                                                                                                                                                                                                           ]],\n",
       "       dtype=[('header', 'O'), ('data', 'O')]),\n",
       " 'mPFC': array([[(array([[(array(['Detection Task'], dtype='<U14'), array(['171 14:20:55.0002499'], dtype='<U20'), array([[2000]], dtype=uint16), array(['V'], dtype='<U1'), array(['mPFC LFP recording, Analog filtering between 0.1 and 1000Hz, tungstene high impedance electrode (10-12MOhm)'],\n",
       "                       dtype='<U107'))                                                                                                                                                                                                                                                    ]],\n",
       "               dtype=[('context', 'O'), ('timestamp', 'O'), ('sample_rate', 'O'), ('unit', 'O'), ('comments', 'O')]), array([[ 1.00134e-04],\n",
       "                [ 8.00660e-05],\n",
       "                [ 9.81340e-05],\n",
       "                ...,\n",
       "                [-1.62266e-04],\n",
       "                [-1.77000e-04],\n",
       "                [-1.74866e-04]]))                                                                                                                                                                                                                                                            ]],\n",
       "       dtype=[('header', 'O'), ('data', 'O')]),\n",
       " 'wM1': array([[(array([[(array(['Detection Task'], dtype='<U14'), array(['171 14:20:55.0002499'], dtype='<U20'), array([[2000]], dtype=uint16), array(['V'], dtype='<U1'), array(['wM1 LFP recording, Analog filtering between 0.1 and 1000Hz, tungstene high impedance electrode (10-12MOhm)'],\n",
       "                       dtype='<U106'))                                                                                                                                                                                                                                                   ]],\n",
       "               dtype=[('context', 'O'), ('timestamp', 'O'), ('sample_rate', 'O'), ('unit', 'O'), ('comments', 'O')]), array([[ 1.47734e-04],\n",
       "                [ 5.24000e-05],\n",
       "                [ 1.09200e-04],\n",
       "                ...,\n",
       "                [-1.69340e-05],\n",
       "                [-3.64660e-05],\n",
       "                [-6.53340e-05]]))                                                                                                                                                                                                                                                           ]],\n",
       "       dtype=[('header', 'O'), ('data', 'O')]),\n",
       " 'wS1': array([[(array([[(array(['Detection Task'], dtype='<U14'), array(['171 14:20:55.0002499'], dtype='<U20'), array([[2000]], dtype=uint16), array(['V'], dtype='<U1'), array(['wS1 LFP recording, Analog filtering between 0.1 and 1000Hz, tungstene high impedance electrode (10-12MOhm)'],\n",
       "                       dtype='<U106'))                                                                                                                                                                                                                                                   ]],\n",
       "               dtype=[('context', 'O'), ('timestamp', 'O'), ('sample_rate', 'O'), ('unit', 'O'), ('comments', 'O')]), array([[4.2134e-05],\n",
       "                [2.9134e-05],\n",
       "                [3.4734e-05],\n",
       "                ...,\n",
       "                [1.4266e-05],\n",
       "                [2.2534e-05],\n",
       "                [1.2734e-05]]))                                                                                                                                                                                                                                                             ]],\n",
       "       dtype=[('header', 'O'), ('data', 'O')])}"
      ]
     },
     "execution_count": 206,
     "metadata": {},
     "output_type": "execute_result"
    }
   ],
   "source": []
  },
  {
   "cell_type": "code",
   "execution_count": null,
   "id": "1e9ffe08",
   "metadata": {},
   "outputs": [
    {
     "name": "stdout",
     "output_type": "stream",
     "text": [
      "[  25751.   47643.   72935.   95532.  121426.  145417.  163214.  184412.\n",
      "  211808.  237399.  262991.  278690.  301383.  318882.  339278.  392563.\n",
      "  415958.  443154.  477842.  521035.  549826.  566322.  589317.  605312.\n",
      "  625309.  655801.  711686.  735682.  763476.  791072.  816367.  892048.\n",
      "  949035.  983423. 1041709. 1066306. 1092102. 1157984. 1178979. 1199075.\n",
      " 1232265. 1260158. 1304852. 1335645. 1412924. 1436420. 1562292. 1581389.\n",
      " 1607481. 1664868. 1732354. 1795438. 1862124. 1898712. 1934504. 1960896.\n",
      " 1988790. 2010387. 2053780. 2128161. 2226039. 2281924. 2303217. 2402195.\n",
      " 2474680. 2499776. 2574958. 2596551. 2630341. 2661533. 2702428. 2780511.\n",
      " 2804760. 2852645. 2881941. 2925330. 2949523. 2990011. 3039001. 3066294.\n",
      " 3161872. 3192166. 3221862. 3282244. 3310340. 3409516. 3473301. 3503993.\n",
      " 3530387. 3556281. 3615508. 3654294. 3695786. 3729378. 3892839. 3951923.\n",
      " 3985515. 4016811. 4063602. 4110189. 4244259. 4298647. 4338235. 4399721.\n",
      " 4418116. 4484500. 4520590. 4554985. 4621968. 4688455. 4724747. 4792927.\n",
      " 4865714. 4891309. 4946893. 4976087. 5010177. 5060567. 5095360. 5133453.\n",
      " 5155546. 5179141. 5211033. 5233231. 5257920. 5275017. 5303209. 5337003.\n",
      " 5356998. 5375698. 5398389. 5419182. 5477172. 5597643. 5627539. 5669327.\n",
      " 5712114. 5735614. 5763703. 5811494. 5868678. 5892775. 5932468. 5958762.\n",
      " 5997548. 6040740. 6077431. 6112123. 6136219. 6158444. 6177937. 6211131.\n",
      " 6285510. 6317804. 6360992. 6384289. 6411583. 6429977. 6444678. 6470972.\n",
      " 6502361. 6530455. 6581444. 6614238. 6707214. 6738106. 6762804. 6811988.\n",
      " 6839282. 6874274. 6893374. 6929961. 6947156. 6975354. 6990049. 7017045.\n",
      " 7036336. 7053431. 7076826. 7110420.]\n"
     ]
    },
    {
     "data": {
      "text/plain": [
       "180"
      ]
     },
     "execution_count": 167,
     "metadata": {},
     "output_type": "execute_result"
    }
   ],
   "source": [
    "# Stim_times\n",
    "stim_onset= np.asarray(pli[\"Stim_times\"][0][0][1][0])/1000\n",
    "# Catch_times\n",
    "catch_onset = np.asarray(pli[\"Catch_times\"][0][0][0][0])/1000\n",
    "# trial_onset\n",
    "all_onsets = np.concatenate([stim_onset, catch_onset])\n",
    "all_onsets_sorted = np.sort(all_onsets)\n",
    "print(all_onsets_sorted)\n",
    "len(all_onsets_sorted)\n",
    "\n"
   ]
  },
  {
   "cell_type": "code",
   "execution_count": 171,
   "id": "76d35d06",
   "metadata": {},
   "outputs": [
    {
     "data": {
      "text/plain": [
       "array([ 417.655,  478.939,  590.514,  656.5  ,  791.869,  817.26 ,\n",
       "        892.845,  949.632, 1093.597, 1306.749, 1336.34 , 1437.117,\n",
       "       1563.188, 1581.986, 1608.077, 1665.267, 1733.151, 1863.021,\n",
       "       2010.884, 2054.273, 2128.857, 2226.735, 2282.421, 2500.272,\n",
       "       2575.453, 2703.025, 2781.006, 2882.438, 2925.825, 2950.02 ,\n",
       "       3066.894, 3222.657, 3311.134, 3504.491, 3530.886, 3615.999,\n",
       "       3696.383, 3729.874, 4017.508, 4064.099, 4110.686, 4245.154,\n",
       "       4299.144, 4338.732, 4400.218, 4555.482, 4688.954, 4725.344,\n",
       "       4891.806, 4976.884, 5095.759, 5156.143, 5233.928, 5275.516,\n",
       "       5376.194, 5398.888, 5477.669, 5628.034, 5669.824, 5736.109,\n",
       "       5893.374, 5932.865, 5959.258, 6137.116, 6211.728, 6318.301,\n",
       "       6445.375, 6471.568, 6531.152, 6614.835, 6707.813, 6763.3  ,\n",
       "       6893.87 , 7017.842])"
      ]
     },
     "execution_count": 171,
     "metadata": {},
     "output_type": "execute_result"
    }
   ],
   "source": [
    "Valve_times= np.asarray(pli[\"Valve_times\"][0][0][1][0])/1000\n",
    "Valve_times"
   ]
  },
  {
   "cell_type": "code",
   "execution_count": 168,
   "id": "c6ba5a9c",
   "metadata": {},
   "outputs": [
    {
     "name": "stdout",
     "output_type": "stream",
     "text": [
      "Are trialonset_avant and all_onsets_sorted equal? False\n",
      "In trialonset_avant but not in all_onsets_sorted: [ 521035 1041709 2053780]\n",
      "In all_onsets_sorted but not in trialonset_avant: [ 521035.  983423. 1041709. 1178979. 2010387. 2053780. 2852645. 2990011.\n",
      " 3282244. 3556281. 3695786. 3985515. 4110189. 4554985. 5868678. 6211131.\n",
      " 6317804. 6470972. 6874274.]\n"
     ]
    }
   ],
   "source": [
    "# Compare trialonset_avant and all_onsets_sorted\n",
    "trialonset_avant_sorted = np.sort(trialonset_avant)\n",
    "are_equal = np.array_equal(trialonset_avant_sorted, all_onsets_sorted)\n",
    "print(\"Are trialonset_avant and all_onsets_sorted equal?\", are_equal)\n",
    "\n",
    "# Show differences if not equal\n",
    "if not are_equal:\n",
    "    diff_in_avant = np.setdiff1d(trialonset_avant_sorted, all_onsets_sorted)\n",
    "    diff_in_all = np.setdiff1d(all_onsets_sorted, trialonset_avant_sorted)\n",
    "    print(\"In trialonset_avant but not in all_onsets_sorted:\", diff_in_avant)\n",
    "    print(\"In all_onsets_sorted but not in trialonset_avant:\", diff_in_all)"
   ]
  },
  {
   "cell_type": "markdown",
   "id": "26db2f5a",
   "metadata": {},
   "source": [
    "# CSV file\n"
   ]
  },
  {
   "cell_type": "code",
   "execution_count": 213,
   "id": "702fda3d",
   "metadata": {},
   "outputs": [
    {
     "data": {
      "text/plain": [
       "Index(['Mouse Name', 'User (user_userName)', 'Ear tag',\n",
       "       'Start date (dd.mm.yy)', 'End date', 'Sex_bin', 'strain', 'mutations',\n",
       "       'Birth date', 'licence', 'DG', 'ExpEnd', 'Created on', 'Session',\n",
       "       'Session Date (yyymmdd)', 'Start Time (hhmmss)', 'Behavior Type',\n",
       "       'Session Type', 'Mouse Age (d)', 'Weight of Reference',\n",
       "       'Weight Session', 'Trial_onset', 'stim_onset', 'catch_onset',\n",
       "       'Responses_times', 'EMG', 'PtA', 'dCA1', 'mPFC', 'wM1', 'wS1', 'wS2'],\n",
       "      dtype='object')"
      ]
     },
     "execution_count": 213,
     "metadata": {},
     "output_type": "execute_result"
    }
   ],
   "source": [
    "\n",
    "csv_data = pd.read_csv(\"data/Subject_Session_Selection.csv\", sep=\";\")\n",
    "csv_data.columns = csv_data.columns.str.strip() \n",
    "csv_data.columns"
   ]
  },
  {
   "cell_type": "code",
   "execution_count": 214,
   "id": "b7f2ad0d",
   "metadata": {},
   "outputs": [
    {
     "data": {
      "text/html": [
       "<div>\n",
       "<style scoped>\n",
       "    .dataframe tbody tr th:only-of-type {\n",
       "        vertical-align: middle;\n",
       "    }\n",
       "\n",
       "    .dataframe tbody tr th {\n",
       "        vertical-align: top;\n",
       "    }\n",
       "\n",
       "    .dataframe thead th {\n",
       "        text-align: right;\n",
       "    }\n",
       "</style>\n",
       "<table border=\"1\" class=\"dataframe\">\n",
       "  <thead>\n",
       "    <tr style=\"text-align: right;\">\n",
       "      <th></th>\n",
       "      <th>Mouse Name</th>\n",
       "      <th>User (user_userName)</th>\n",
       "      <th>Ear tag</th>\n",
       "      <th>Start date (dd.mm.yy)</th>\n",
       "      <th>End date</th>\n",
       "      <th>Sex_bin</th>\n",
       "      <th>strain</th>\n",
       "      <th>mutations</th>\n",
       "      <th>Birth date</th>\n",
       "      <th>licence</th>\n",
       "      <th>...</th>\n",
       "      <th>stim_onset</th>\n",
       "      <th>catch_onset</th>\n",
       "      <th>Responses_times</th>\n",
       "      <th>EMG</th>\n",
       "      <th>PtA</th>\n",
       "      <th>dCA1</th>\n",
       "      <th>mPFC</th>\n",
       "      <th>wM1</th>\n",
       "      <th>wS1</th>\n",
       "      <th>wS2</th>\n",
       "    </tr>\n",
       "  </thead>\n",
       "  <tbody>\n",
       "    <tr>\n",
       "      <th>0</th>\n",
       "      <td>PL200</td>\n",
       "      <td>Pierre Le Merre</td>\n",
       "      <td>Unknown</td>\n",
       "      <td>19.06.2014</td>\n",
       "      <td>19.06.2014</td>\n",
       "      <td>m</td>\n",
       "      <td>C57BL/6JRj</td>\n",
       "      <td>NaN</td>\n",
       "      <td>Unknown</td>\n",
       "      <td>Unknown</td>\n",
       "      <td>...</td>\n",
       "      <td>25.751;95.532;211.808;318.882;339.278;415.958;...</td>\n",
       "      <td>47.643;72.935;121.426;145.417;163.214;184.412;...</td>\n",
       "      <td>417.655;478.939;590.514;656.5;791.869;817.26;8...</td>\n",
       "      <td>1.4367e-05;4.53e-05;-4.7600000000000005e-05;-1...</td>\n",
       "      <td>2.266e-06;-4.6933999999999995e-05;2.5e-05;1.44...</td>\n",
       "      <td>0.00011766600000000001;0.000107534;0.0001252;0...</td>\n",
       "      <td>0.000100134;8.0066e-05;9.813399999999999e-05;8...</td>\n",
       "      <td>0.000147734;5.24e-05;0.00010920000000000001;0....</td>\n",
       "      <td>4.2134e-05;2.9134e-05;3.4734e-05;3.4734e-05;4....</td>\n",
       "      <td>NaN</td>\n",
       "    </tr>\n",
       "    <tr>\n",
       "      <th>1</th>\n",
       "      <td>PL200</td>\n",
       "      <td>Pierre Le Merre</td>\n",
       "      <td>Unknown</td>\n",
       "      <td>20.06.2014</td>\n",
       "      <td>20.06.2014</td>\n",
       "      <td>m</td>\n",
       "      <td>C57BL/6JRj</td>\n",
       "      <td>NaN</td>\n",
       "      <td>Unknown</td>\n",
       "      <td>Unknown</td>\n",
       "      <td>...</td>\n",
       "      <td>20.18;43.172;85.761;241.442;283.329;452.589;64...</td>\n",
       "      <td>71.961;423.095;545.167;665.838;700.83;725.726;...</td>\n",
       "      <td>20.675;43.669;86.258;241.935;283.728;453.086;6...</td>\n",
       "      <td>1.1167e-05;6.433e-06;-1.3667e-05;7.4e-06;3.26e...</td>\n",
       "      <td>-2.5866e-05;-4.0866e-05;-2.3265999999999997e-0...</td>\n",
       "      <td>-0.000133534;-0.000114866;-0.000118134;-9.7866...</td>\n",
       "      <td>-5.8e-05;-3.52e-05;-2.5e-05;-2.0734e-05;-3.613...</td>\n",
       "      <td>-1.4934e-05;-3.26e-05;-6.7534e-05;-7.2934e-05;...</td>\n",
       "      <td>-3e-06;2.2e-06;-1.066e-06;2.334e-06;5.34e-07;5...</td>\n",
       "      <td>NaN</td>\n",
       "    </tr>\n",
       "    <tr>\n",
       "      <th>2</th>\n",
       "      <td>PL200</td>\n",
       "      <td>Pierre Le Merre</td>\n",
       "      <td>Unknown</td>\n",
       "      <td>21.06.2014</td>\n",
       "      <td>21.06.2014</td>\n",
       "      <td>m</td>\n",
       "      <td>C57BL/6JRj</td>\n",
       "      <td>NaN</td>\n",
       "      <td>Unknown</td>\n",
       "      <td>Unknown</td>\n",
       "      <td>...</td>\n",
       "      <td>85.187;183.263;228.152;269.345;288.04;445.702;...</td>\n",
       "      <td>18.805;50.293;63.69;111.077;143.271;166.266;37...</td>\n",
       "      <td>85.682;183.86;228.649;269.84;288.737;446.299;4...</td>\n",
       "      <td>-1.8433e-05;5.6067e-05;4.97e-05;4.5267e-05;2.3...</td>\n",
       "      <td>3.4866e-05;5.4134e-05;6.9266e-05;8.2134e-05;7....</td>\n",
       "      <td>-0.00023266600000000003;-0.000221666;-0.000179...</td>\n",
       "      <td>9.313399999999999e-05;7.64e-05;0.0001322000000...</td>\n",
       "      <td>0.000129334;0.000124934;0.000165866;0.0001132;...</td>\n",
       "      <td>4.9133999999999994e-05;6.68e-05;0.000101734;3....</td>\n",
       "      <td>NaN</td>\n",
       "    </tr>\n",
       "    <tr>\n",
       "      <th>3</th>\n",
       "      <td>PL200</td>\n",
       "      <td>Pierre Le Merre</td>\n",
       "      <td>Unknown</td>\n",
       "      <td>22.06.2014</td>\n",
       "      <td>22.06.2014</td>\n",
       "      <td>m</td>\n",
       "      <td>C57BL/6JRj</td>\n",
       "      <td>NaN</td>\n",
       "      <td>Unknown</td>\n",
       "      <td>Unknown</td>\n",
       "      <td>...</td>\n",
       "      <td>100.125;127.917;162.909;181.206;242.292;271.18...</td>\n",
       "      <td>76.43;145.711;342.966;367.161;384.355;404.851;...</td>\n",
       "      <td>100.622;128.414;163.308;181.603;242.889;271.58...</td>\n",
       "      <td>-1.6133000000000003e-05;-2.1267e-05;-1.967e-06...</td>\n",
       "      <td>-1.52e-05;-2.86e-05;-2.9266e-05;-3.5066e-05;-3...</td>\n",
       "      <td>1.4934e-05;1.1065999999999999e-05;2.9934e-05;6...</td>\n",
       "      <td>-1.34e-07;6.0934e-05;4.46e-05;4.7066e-05;7.08e...</td>\n",
       "      <td>2.734e-06;-1.46e-05;-1.6934e-05;-5.86660000000...</td>\n",
       "      <td>-0.000130734;-9.76e-05;-9.153400000000001e-05;...</td>\n",
       "      <td>NaN</td>\n",
       "    </tr>\n",
       "    <tr>\n",
       "      <th>4</th>\n",
       "      <td>PL200</td>\n",
       "      <td>Pierre Le Merre</td>\n",
       "      <td>Unknown</td>\n",
       "      <td>23.06.2014</td>\n",
       "      <td>23.06.2014</td>\n",
       "      <td>m</td>\n",
       "      <td>C57BL/6JRj</td>\n",
       "      <td>NaN</td>\n",
       "      <td>Unknown</td>\n",
       "      <td>Unknown</td>\n",
       "      <td>...</td>\n",
       "      <td>21.524;97.702;236.669;261.064;276.16;327.451;3...</td>\n",
       "      <td>46.413;72.107;112.399;126.394;149.689;173.383;...</td>\n",
       "      <td>22.119;98.2;237.266;261.563;276.756;328.048;34...</td>\n",
       "      <td>5.9e-06;1.5367e-05;7.433000000000001e-06;-1.39...</td>\n",
       "      <td>-5.1200000000000004e-05;-5.22e-05;-4.6134e-05;...</td>\n",
       "      <td>0.0002002;0.000186734;0.000180934;0.0002038000...</td>\n",
       "      <td>-8.4666e-05;-9.073399999999999e-05;-8.46e-05;-...</td>\n",
       "      <td>-8.6534e-05;-9.7e-05;-9.7334e-05;-5.4733999999...</td>\n",
       "      <td>1.54e-05;1.666e-06;1.8e-06;9.066e-06;1.6134e-0...</td>\n",
       "      <td>NaN</td>\n",
       "    </tr>\n",
       "    <tr>\n",
       "      <th>5</th>\n",
       "      <td>PL200</td>\n",
       "      <td>Pierre Le Merre</td>\n",
       "      <td>Unknown</td>\n",
       "      <td>24.06.2014</td>\n",
       "      <td>24.06.2014</td>\n",
       "      <td>m</td>\n",
       "      <td>C57BL/6JRj</td>\n",
       "      <td>NaN</td>\n",
       "      <td>Unknown</td>\n",
       "      <td>Unknown</td>\n",
       "      <td>...</td>\n",
       "      <td>64.182;85.376;102.471;144.261;167.755;182.552;...</td>\n",
       "      <td>24.694;48.381;128.462;247.737;309.321;340.115;...</td>\n",
       "      <td>85.873;102.968;144.66;168.352;183.149;209.244;...</td>\n",
       "      <td>2.9166999999999997e-05;-3.3367e-05;-2.1767e-05...</td>\n",
       "      <td>0.000119066;0.0001192;6.46e-05;9.8334000000000...</td>\n",
       "      <td>-1.1e-05;-1.0933999999999999e-05;-5.1734e-05;-...</td>\n",
       "      <td>-0.0001172;-0.00017353399999999998;-0.00014113...</td>\n",
       "      <td>2e-06;-4.9133999999999994e-05;-0.0001676;-8.2e...</td>\n",
       "      <td>4.4934e-05;3.2666e-05;6.934e-06;2.526600000000...</td>\n",
       "      <td>NaN</td>\n",
       "    </tr>\n",
       "    <tr>\n",
       "      <th>6</th>\n",
       "      <td>PL200</td>\n",
       "      <td>Pierre Le Merre</td>\n",
       "      <td>Unknown</td>\n",
       "      <td>25.06.2014</td>\n",
       "      <td>25.06.2014</td>\n",
       "      <td>m</td>\n",
       "      <td>C57BL/6JRj</td>\n",
       "      <td>NaN</td>\n",
       "      <td>Unknown</td>\n",
       "      <td>Unknown</td>\n",
       "      <td>...</td>\n",
       "      <td>47.149;68.54;101.036;122.829;256.698;279.293;3...</td>\n",
       "      <td>23.452;85.835;142.223;157.719;179.812;200.808;...</td>\n",
       "      <td>47.642;69.037;101.633;123.326;257.195;279.888;...</td>\n",
       "      <td>1.3667e-05;1.6329999999999999e-06;2.1e-06;1.80...</td>\n",
       "      <td>-8.04e-05;-7.9334e-05;-4.7466e-05;-7.8734e-05;...</td>\n",
       "      <td>0.00020546600000000001;0.000214266;0.000237066...</td>\n",
       "      <td>-7.4066e-05;-5.1866e-05;-6.346599999999999e-05...</td>\n",
       "      <td>-0.0001292;-8.400000000000001e-05;-6.72e-05;-9...</td>\n",
       "      <td>-2.0266e-05;-2.8266e-05;-1.74e-05;-4.533399999...</td>\n",
       "      <td>NaN</td>\n",
       "    </tr>\n",
       "    <tr>\n",
       "      <th>7</th>\n",
       "      <td>PL200</td>\n",
       "      <td>Pierre Le Merre</td>\n",
       "      <td>Unknown</td>\n",
       "      <td>26.06.2014</td>\n",
       "      <td>26.06.2014</td>\n",
       "      <td>m</td>\n",
       "      <td>C57BL/6JRj</td>\n",
       "      <td>NaN</td>\n",
       "      <td>Unknown</td>\n",
       "      <td>Unknown</td>\n",
       "      <td>...</td>\n",
       "      <td>186.694;234.283;259.48;299.971;316.966;349.756...</td>\n",
       "      <td>59.725;91.014;105.813;124.606;148.003;169.398;...</td>\n",
       "      <td>187.393;235.18;260.173;300.464;317.661;350.255...</td>\n",
       "      <td>1.24e-05;1.9767e-05;-3e-07;-1.0167000000000001...</td>\n",
       "      <td>-6.379999999999999e-05;-9.8466e-05;-0.0001152;...</td>\n",
       "      <td>0.00021840000000000002;0.0002174;0.000222134;0...</td>\n",
       "      <td>8.66e-07;-1.0534e-05;-3.6266e-05;-4.2934e-05;-...</td>\n",
       "      <td>-1.4200000000000001e-05;-4.7466e-05;-2.3734e-0...</td>\n",
       "      <td>5.2666e-05;5.2734e-05;5.066e-06;2.7466e-05;6.0...</td>\n",
       "      <td>NaN</td>\n",
       "    </tr>\n",
       "  </tbody>\n",
       "</table>\n",
       "<p>8 rows × 32 columns</p>\n",
       "</div>"
      ],
      "text/plain": [
       "  Mouse Name User (user_userName)  Ear tag Start date (dd.mm.yy)    End date  \\\n",
       "0      PL200      Pierre Le Merre  Unknown            19.06.2014  19.06.2014   \n",
       "1      PL200      Pierre Le Merre  Unknown            20.06.2014  20.06.2014   \n",
       "2      PL200      Pierre Le Merre  Unknown            21.06.2014  21.06.2014   \n",
       "3      PL200      Pierre Le Merre  Unknown            22.06.2014  22.06.2014   \n",
       "4      PL200      Pierre Le Merre  Unknown            23.06.2014  23.06.2014   \n",
       "5      PL200      Pierre Le Merre  Unknown            24.06.2014  24.06.2014   \n",
       "6      PL200      Pierre Le Merre  Unknown            25.06.2014  25.06.2014   \n",
       "7      PL200      Pierre Le Merre  Unknown            26.06.2014  26.06.2014   \n",
       "\n",
       "  Sex_bin      strain  mutations Birth date  licence  ...  \\\n",
       "0       m  C57BL/6JRj        NaN    Unknown  Unknown  ...   \n",
       "1       m  C57BL/6JRj        NaN    Unknown  Unknown  ...   \n",
       "2       m  C57BL/6JRj        NaN    Unknown  Unknown  ...   \n",
       "3       m  C57BL/6JRj        NaN    Unknown  Unknown  ...   \n",
       "4       m  C57BL/6JRj        NaN    Unknown  Unknown  ...   \n",
       "5       m  C57BL/6JRj        NaN    Unknown  Unknown  ...   \n",
       "6       m  C57BL/6JRj        NaN    Unknown  Unknown  ...   \n",
       "7       m  C57BL/6JRj        NaN    Unknown  Unknown  ...   \n",
       "\n",
       "                                          stim_onset  \\\n",
       "0  25.751;95.532;211.808;318.882;339.278;415.958;...   \n",
       "1  20.18;43.172;85.761;241.442;283.329;452.589;64...   \n",
       "2  85.187;183.263;228.152;269.345;288.04;445.702;...   \n",
       "3  100.125;127.917;162.909;181.206;242.292;271.18...   \n",
       "4  21.524;97.702;236.669;261.064;276.16;327.451;3...   \n",
       "5  64.182;85.376;102.471;144.261;167.755;182.552;...   \n",
       "6  47.149;68.54;101.036;122.829;256.698;279.293;3...   \n",
       "7  186.694;234.283;259.48;299.971;316.966;349.756...   \n",
       "\n",
       "                                         catch_onset  \\\n",
       "0  47.643;72.935;121.426;145.417;163.214;184.412;...   \n",
       "1  71.961;423.095;545.167;665.838;700.83;725.726;...   \n",
       "2  18.805;50.293;63.69;111.077;143.271;166.266;37...   \n",
       "3  76.43;145.711;342.966;367.161;384.355;404.851;...   \n",
       "4  46.413;72.107;112.399;126.394;149.689;173.383;...   \n",
       "5  24.694;48.381;128.462;247.737;309.321;340.115;...   \n",
       "6  23.452;85.835;142.223;157.719;179.812;200.808;...   \n",
       "7  59.725;91.014;105.813;124.606;148.003;169.398;...   \n",
       "\n",
       "                                     Responses_times  \\\n",
       "0  417.655;478.939;590.514;656.5;791.869;817.26;8...   \n",
       "1  20.675;43.669;86.258;241.935;283.728;453.086;6...   \n",
       "2  85.682;183.86;228.649;269.84;288.737;446.299;4...   \n",
       "3  100.622;128.414;163.308;181.603;242.889;271.58...   \n",
       "4  22.119;98.2;237.266;261.563;276.756;328.048;34...   \n",
       "5  85.873;102.968;144.66;168.352;183.149;209.244;...   \n",
       "6  47.642;69.037;101.633;123.326;257.195;279.888;...   \n",
       "7  187.393;235.18;260.173;300.464;317.661;350.255...   \n",
       "\n",
       "                                                 EMG  \\\n",
       "0  1.4367e-05;4.53e-05;-4.7600000000000005e-05;-1...   \n",
       "1  1.1167e-05;6.433e-06;-1.3667e-05;7.4e-06;3.26e...   \n",
       "2  -1.8433e-05;5.6067e-05;4.97e-05;4.5267e-05;2.3...   \n",
       "3  -1.6133000000000003e-05;-2.1267e-05;-1.967e-06...   \n",
       "4  5.9e-06;1.5367e-05;7.433000000000001e-06;-1.39...   \n",
       "5  2.9166999999999997e-05;-3.3367e-05;-2.1767e-05...   \n",
       "6  1.3667e-05;1.6329999999999999e-06;2.1e-06;1.80...   \n",
       "7  1.24e-05;1.9767e-05;-3e-07;-1.0167000000000001...   \n",
       "\n",
       "                                                 PtA  \\\n",
       "0  2.266e-06;-4.6933999999999995e-05;2.5e-05;1.44...   \n",
       "1  -2.5866e-05;-4.0866e-05;-2.3265999999999997e-0...   \n",
       "2  3.4866e-05;5.4134e-05;6.9266e-05;8.2134e-05;7....   \n",
       "3  -1.52e-05;-2.86e-05;-2.9266e-05;-3.5066e-05;-3...   \n",
       "4  -5.1200000000000004e-05;-5.22e-05;-4.6134e-05;...   \n",
       "5  0.000119066;0.0001192;6.46e-05;9.8334000000000...   \n",
       "6  -8.04e-05;-7.9334e-05;-4.7466e-05;-7.8734e-05;...   \n",
       "7  -6.379999999999999e-05;-9.8466e-05;-0.0001152;...   \n",
       "\n",
       "                                                dCA1  \\\n",
       "0  0.00011766600000000001;0.000107534;0.0001252;0...   \n",
       "1  -0.000133534;-0.000114866;-0.000118134;-9.7866...   \n",
       "2  -0.00023266600000000003;-0.000221666;-0.000179...   \n",
       "3  1.4934e-05;1.1065999999999999e-05;2.9934e-05;6...   \n",
       "4  0.0002002;0.000186734;0.000180934;0.0002038000...   \n",
       "5  -1.1e-05;-1.0933999999999999e-05;-5.1734e-05;-...   \n",
       "6  0.00020546600000000001;0.000214266;0.000237066...   \n",
       "7  0.00021840000000000002;0.0002174;0.000222134;0...   \n",
       "\n",
       "                                                mPFC  \\\n",
       "0  0.000100134;8.0066e-05;9.813399999999999e-05;8...   \n",
       "1  -5.8e-05;-3.52e-05;-2.5e-05;-2.0734e-05;-3.613...   \n",
       "2  9.313399999999999e-05;7.64e-05;0.0001322000000...   \n",
       "3  -1.34e-07;6.0934e-05;4.46e-05;4.7066e-05;7.08e...   \n",
       "4  -8.4666e-05;-9.073399999999999e-05;-8.46e-05;-...   \n",
       "5  -0.0001172;-0.00017353399999999998;-0.00014113...   \n",
       "6  -7.4066e-05;-5.1866e-05;-6.346599999999999e-05...   \n",
       "7  8.66e-07;-1.0534e-05;-3.6266e-05;-4.2934e-05;-...   \n",
       "\n",
       "                                                 wM1  \\\n",
       "0  0.000147734;5.24e-05;0.00010920000000000001;0....   \n",
       "1  -1.4934e-05;-3.26e-05;-6.7534e-05;-7.2934e-05;...   \n",
       "2  0.000129334;0.000124934;0.000165866;0.0001132;...   \n",
       "3  2.734e-06;-1.46e-05;-1.6934e-05;-5.86660000000...   \n",
       "4  -8.6534e-05;-9.7e-05;-9.7334e-05;-5.4733999999...   \n",
       "5  2e-06;-4.9133999999999994e-05;-0.0001676;-8.2e...   \n",
       "6  -0.0001292;-8.400000000000001e-05;-6.72e-05;-9...   \n",
       "7  -1.4200000000000001e-05;-4.7466e-05;-2.3734e-0...   \n",
       "\n",
       "                                                 wS1 wS2  \n",
       "0  4.2134e-05;2.9134e-05;3.4734e-05;3.4734e-05;4.... NaN  \n",
       "1  -3e-06;2.2e-06;-1.066e-06;2.334e-06;5.34e-07;5... NaN  \n",
       "2  4.9133999999999994e-05;6.68e-05;0.000101734;3.... NaN  \n",
       "3  -0.000130734;-9.76e-05;-9.153400000000001e-05;... NaN  \n",
       "4  1.54e-05;1.666e-06;1.8e-06;9.066e-06;1.6134e-0... NaN  \n",
       "5  4.4934e-05;3.2666e-05;6.934e-06;2.526600000000... NaN  \n",
       "6  -2.0266e-05;-2.8266e-05;-1.74e-05;-4.533399999... NaN  \n",
       "7  5.2666e-05;5.2734e-05;5.066e-06;2.7466e-05;6.0... NaN  \n",
       "\n",
       "[8 rows x 32 columns]"
      ]
     },
     "execution_count": 214,
     "metadata": {},
     "output_type": "execute_result"
    }
   ],
   "source": [
    "csv_data"
   ]
  },
  {
   "cell_type": "code",
   "execution_count": 218,
   "id": "a3230da7",
   "metadata": {},
   "outputs": [
    {
     "name": "stdout",
     "output_type": "stream",
     "text": [
      "PL200\n",
      "<class 'pandas.core.series.Series'>\n",
      "PL200\n",
      "<class 'pandas.core.series.Series'>\n",
      "PL200\n",
      "<class 'pandas.core.series.Series'>\n",
      "PL200\n",
      "<class 'pandas.core.series.Series'>\n",
      "PL200\n",
      "<class 'pandas.core.series.Series'>\n",
      "PL200\n",
      "<class 'pandas.core.series.Series'>\n",
      "PL200\n",
      "<class 'pandas.core.series.Series'>\n",
      "PL200\n",
      "<class 'pandas.core.series.Series'>\n"
     ]
    }
   ],
   "source": [
    "for index, csv_data_row in csv_data.iterrows():\n",
    "    #display(csv_data_row)\n",
    "    print(csv_data_row['Mouse Name'])\n",
    "    print(type(csv_data_row))"
   ]
  },
  {
   "cell_type": "markdown",
   "id": "e65b150b",
   "metadata": {},
   "source": [
    "# TOTAL CSV"
   ]
  },
  {
   "cell_type": "code",
   "execution_count": 212,
   "id": "e6a468ec",
   "metadata": {},
   "outputs": [
    {
     "name": "stdout",
     "output_type": "stream",
     "text": [
      "Number of sessions: 8\n",
      "Number of files in PLALL: 9\n",
      "Processing session file: PL200_D1.mat\n",
      "Processing session file: PL200_D2.mat\n",
      "Processing session file: PL200_D3.mat\n",
      "Processing session file: PL200_D4.mat\n",
      "Processing session file: PL200_D5.mat\n",
      "Processing session file: PL200_D6.mat\n",
      "Processing session file: PL200_D7.mat\n",
      "Processing session file: PL200_D8.mat\n"
     ]
    }
   ],
   "source": [
    "importlib.reload(converters.Initiation_nwb)\n",
    "output_path = converters.Initiation_nwb.files_to_csv(PL=PL, PLALL=PLALL, csv_file=csv_file)"
   ]
  },
  {
   "cell_type": "markdown",
   "id": "e142f12d",
   "metadata": {},
   "source": [
    " # TOTAL _-_-_-_-_-_-_-_\n",
    " "
   ]
  },
  {
   "cell_type": "code",
   "execution_count": 223,
   "id": "03448e11",
   "metadata": {},
   "outputs": [
    {
     "ename": "IndentationError",
     "evalue": "unexpected indent (convert_to_nwb_for_PL.py, line 103)",
     "output_type": "error",
     "traceback": [
      "Traceback \u001b[0;36m(most recent call last)\u001b[0m:\n",
      "\u001b[0m  File \u001b[1;32m/opt/miniconda3/envs/lsens_nwb/lib/python3.9/site-packages/IPython/core/interactiveshell.py:3550\u001b[0m in \u001b[1;35mrun_code\u001b[0m\n    exec(code_obj, self.user_global_ns, self.user_ns)\u001b[0m\n",
      "\u001b[0m  Cell \u001b[1;32mIn[223], line 1\u001b[0m\n    importlib.reload(convert_to_nwb_for_PL)\u001b[0m\n",
      "\u001b[0m  File \u001b[1;32m/opt/miniconda3/envs/lsens_nwb/lib/python3.9/importlib/__init__.py:169\u001b[0m in \u001b[1;35mreload\u001b[0m\n    _bootstrap._exec(spec, module)\u001b[0m\n",
      "\u001b[0m  File \u001b[1;32m<frozen importlib._bootstrap>:613\u001b[0m in \u001b[1;35m_exec\u001b[0m\n",
      "\u001b[0m  File \u001b[1;32m<frozen importlib._bootstrap_external>:846\u001b[0m in \u001b[1;35mexec_module\u001b[0m\n",
      "\u001b[0m  File \u001b[1;32m<frozen importlib._bootstrap_external>:983\u001b[0m in \u001b[1;35mget_code\u001b[0m\n",
      "\u001b[0m  File \u001b[1;32m<frozen importlib._bootstrap_external>:913\u001b[0m in \u001b[1;35msource_to_code\u001b[0m\n",
      "\u001b[0;36m  File \u001b[0;32m<frozen importlib._bootstrap>:228\u001b[0;36m in \u001b[0;35m_call_with_frames_removed\u001b[0;36m\n",
      "\u001b[0;36m  File \u001b[0;32m~/Desktop/Divers/LSENS/NWB_Converter_LeMerre/NWB_converter_LeMerre/convert_to_nwb_for_PL.py:103\u001b[0;36m\u001b[0m\n\u001b[0;31m    print(\" \")\u001b[0m\n\u001b[0m    ^\u001b[0m\n\u001b[0;31mIndentationError\u001b[0m\u001b[0;31m:\u001b[0m unexpected indent\n"
     ]
    }
   ],
   "source": [
    "\n",
    "importlib.reload(convert_to_nwb_for_PL)\n",
    "nwb_path = convert_to_nwb_for_PL.convert_data_to_nwb_pl(csv_file=csv_file, output_folder=\"data\", mouse_name = \"PL200\")"
   ]
  },
  {
   "cell_type": "markdown",
   "id": "72fef109",
   "metadata": {},
   "source": [
    "# Accessibilité "
   ]
  }
 ],
 "metadata": {
  "kernelspec": {
   "display_name": "lsens_nwb",
   "language": "python",
   "name": "python3"
  },
  "language_info": {
   "codemirror_mode": {
    "name": "ipython",
    "version": 3
   },
   "file_extension": ".py",
   "mimetype": "text/x-python",
   "name": "python",
   "nbconvert_exporter": "python",
   "pygments_lexer": "ipython3",
   "version": "3.9.23"
  }
 },
 "nbformat": 4,
 "nbformat_minor": 5
}
