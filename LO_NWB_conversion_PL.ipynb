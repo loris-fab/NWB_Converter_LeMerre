{
 "cells": [
  {
   "cell_type": "markdown",
   "id": "71ac0b88",
   "metadata": {},
   "source": [
    "# Preprocessing .mat for NWB"
   ]
  },
  {
   "cell_type": "code",
   "execution_count": 1,
   "id": "eee9f332",
   "metadata": {},
   "outputs": [],
   "source": [
    "import numpy as np\n",
    "import h5py\n",
    "import os\n",
    "import yaml\n",
    "import pandas as pd\n",
    "from datetime import datetime\n",
    "import shutil\n",
    "import importlib\n",
    "import numpy as np\n",
    "import pandas as pd\n",
    "import convert_to_nwb_for_PL\n",
    "import convert_to_nwb_for_PL\n",
    "import converters.Initiation_nwb\n",
    "import scipy.io\n",
    "import warnings\n",
    "from pathlib import Path\n"
   ]
  },
  {
   "cell_type": "markdown",
   "id": "3b848cdc",
   "metadata": {},
   "source": [
    "# Load data "
   ]
  },
  {
   "cell_type": "markdown",
   "id": "0785ecbc",
   "metadata": {},
   "source": [
    "## .mat files"
   ]
  },
  {
   "cell_type": "code",
   "execution_count": 24,
   "id": "d94a3651",
   "metadata": {},
   "outputs": [],
   "source": [
    "csv_file = \"data/Subject_Session_Selection.csv\"\n",
    "PL = \"data/mouse/General\"\n",
    "PLALL = \"data/mouse/Recording\"\n",
    "PLALL_number1 = \"data/mouse/Recording/PL200_D1.mat\"\n",
    "output_folder = \"data\""
   ]
  },
  {
   "cell_type": "code",
   "execution_count": null,
   "id": "eff9387a",
   "metadata": {},
   "outputs": [],
   "source": [
    "PL200 = [os.path.join(PL, f) for f in os.listdir(PL)][0]\n",
    "PL200\n"
   ]
  },
  {
   "cell_type": "code",
   "execution_count": null,
   "id": "6b84ce12",
   "metadata": {},
   "outputs": [],
   "source": [
    "for file_name in sorted(os.listdir(PLALL)):\n",
    "    i += 1\n",
    "    file_path = os.path.join(PLALL, file_name)\n",
    "    if os.path.isfile(file_path) and file_name.endswith('.mat'):\n",
    "        print(f\"Processing file: {file_name}\")"
   ]
  },
  {
   "cell_type": "markdown",
   "id": "13ca4ff7",
   "metadata": {},
   "source": [
    "### General"
   ]
  },
  {
   "cell_type": "code",
   "execution_count": null,
   "id": "c7c3d58c",
   "metadata": {},
   "outputs": [],
   "source": [
    "from scipy.io import loadmat\n",
    "General_data = loadmat(PL200)"
   ]
  },
  {
   "cell_type": "code",
   "execution_count": null,
   "id": "f2e80769",
   "metadata": {},
   "outputs": [],
   "source": [
    "type(General_data)"
   ]
  },
  {
   "cell_type": "code",
   "execution_count": null,
   "id": "f23d0a51",
   "metadata": {},
   "outputs": [],
   "source": [
    "print(General_data.keys())\n"
   ]
  },
  {
   "cell_type": "code",
   "execution_count": null,
   "id": "13cba317",
   "metadata": {},
   "outputs": [],
   "source": [
    "print(General_data[\"__header__\"])\n"
   ]
  },
  {
   "cell_type": "code",
   "execution_count": null,
   "id": "4bcd4e15",
   "metadata": {},
   "outputs": [],
   "source": [
    "print(General_data[\"__version__\"])\n"
   ]
  },
  {
   "cell_type": "code",
   "execution_count": null,
   "id": "4bc68941",
   "metadata": {},
   "outputs": [],
   "source": [
    "print(General_data[\"__globals__\"])\n"
   ]
  },
  {
   "cell_type": "code",
   "execution_count": null,
   "id": "b699a92f",
   "metadata": {},
   "outputs": [],
   "source": [
    "\n",
    "print(General_data[\"LFP_Data\"])\n",
    "\n"
   ]
  },
  {
   "cell_type": "code",
   "execution_count": null,
   "id": "0f06e7d2",
   "metadata": {},
   "outputs": [],
   "source": [
    "# Mouse Name\n",
    "print(General_data[\"LFP_Data\"][0][0][0][0][0][0])\n"
   ]
  },
  {
   "cell_type": "code",
   "execution_count": null,
   "id": "ea897de2",
   "metadata": {},
   "outputs": [],
   "source": [
    "# id session \n",
    "print(General_data[\"LFP_Data\"][0][0][4])\n",
    "unique_values, unique_indices = np.unique(General_data[\"LFP_Data\"][0][0][4], return_index=True)\n",
    "print(\"Unique values:\", unique_values)\n",
    "print(\"Indices:\", unique_indices)\n",
    "\n"
   ]
  },
  {
   "cell_type": "code",
   "execution_count": null,
   "id": "561d09b4",
   "metadata": {},
   "outputs": [],
   "source": [
    "i=0\n",
    "# Start date (dd.mm.yy)\n",
    "print(General_data[\"LFP_Data\"][0][0][5][unique_indices[1]])\n",
    "\n",
    "# Start time (hhmmss)\n",
    "## hh\n",
    "hh = str(General_data[\"LFP_Data\"][0][0][5][unique_indices[i]][3][0][0])\n",
    "## mm\n",
    "if len(str(General_data[\"LFP_Data\"][0][0][5][unique_indices[i]][4][0][0])) == 1:\n",
    "    mm= \"0\" + str(General_data[\"LFP_Data\"][0][0][5][unique_indices[i]][4][0][0])\n",
    "else:\n",
    "    mm = str(General_data[\"LFP_Data\"][0][0][5][unique_indices[i]][4][0][0])\n",
    "## ss\n",
    "ss = str(General_data[\"LFP_Data\"][0][0][5][unique_indices[i]][5][0][0])\n",
    "\n",
    "start_time = hh + mm +  ss[:2]\n",
    "print(\"Start time:\", start_time)\n",
    "\n",
    "\n",
    "#Behavior Type\n",
    "print(str(General_data[\"LFP_Data\"][0][0][6][unique_indices[i]][0][0]))\n"
   ]
  },
  {
   "cell_type": "code",
   "execution_count": null,
   "id": "a06745ce",
   "metadata": {},
   "outputs": [],
   "source": [
    "# Strain\n",
    "print(General_data[\"LFP_Data\"][0][0][1][0][0][0])"
   ]
  },
  {
   "cell_type": "code",
   "execution_count": null,
   "id": "a2cd887d",
   "metadata": {},
   "outputs": [],
   "source": [
    "# sex \n",
    "print(General_data[\"LFP_Data\"][0][0][2][0][0][0])"
   ]
  },
  {
   "cell_type": "code",
   "execution_count": null,
   "id": "d5e24094",
   "metadata": {},
   "outputs": [],
   "source": [
    "# birth date \n",
    "print(str(General_data[\"LFP_Data\"][0][0][3][0][0][0][0]))"
   ]
  },
  {
   "cell_type": "code",
   "execution_count": null,
   "id": "2ce0e6b2",
   "metadata": {},
   "outputs": [],
   "source": [
    "# trial onset \n",
    "rien = unique_indices[1]\n",
    "trial = np.asarray(General_data[\"LFP_Data\"][0][0][8]).flatten()\n",
    "trialonset_avant= trial[0:rien]"
   ]
  },
  {
   "cell_type": "code",
   "execution_count": null,
   "id": "08ec7a6b",
   "metadata": {},
   "outputs": [],
   "source": [
    "\n",
    "print(General_data[\"LFP_Data_description\"])"
   ]
  },
  {
   "cell_type": "markdown",
   "id": "06ca0f91",
   "metadata": {},
   "source": [
    "### ALL (number1)"
   ]
  },
  {
   "cell_type": "code",
   "execution_count": null,
   "id": "d5df6c09",
   "metadata": {},
   "outputs": [],
   "source": [
    "from scipy.io import loadmat\n",
    "pli = loadmat(PLALL_number1)"
   ]
  },
  {
   "cell_type": "code",
   "execution_count": null,
   "id": "62b6ee8c",
   "metadata": {},
   "outputs": [],
   "source": [
    "pli.keys()"
   ]
  },
  {
   "cell_type": "code",
   "execution_count": null,
   "id": "1e9ffe08",
   "metadata": {},
   "outputs": [],
   "source": [
    "# Stim_times\n",
    "stim_onset= np.asarray(pli[\"Stim_times\"][0][0][1][0])/1000\n",
    "# Catch_times\n",
    "catch_onset = np.asarray(pli[\"Catch_times\"][0][0][0][0])/1000\n",
    "# trial_onset\n",
    "all_onsets = np.concatenate([stim_onset, catch_onset])\n",
    "all_onsets_sorted = np.sort(all_onsets)\n",
    "print(all_onsets_sorted)\n",
    "len(all_onsets_sorted)\n",
    "\n"
   ]
  },
  {
   "cell_type": "code",
   "execution_count": null,
   "id": "76d35d06",
   "metadata": {},
   "outputs": [],
   "source": [
    "Valve_times= np.asarray(pli[\"Valve_times\"][0][0][1][0])/1000\n",
    "Valve_times"
   ]
  },
  {
   "cell_type": "code",
   "execution_count": null,
   "id": "c6ba5a9c",
   "metadata": {},
   "outputs": [],
   "source": [
    "# Compare trialonset_avant and all_onsets_sorted\n",
    "trialonset_avant_sorted = np.sort(trialonset_avant)\n",
    "are_equal = np.array_equal(trialonset_avant_sorted, all_onsets_sorted)\n",
    "print(\"Are trialonset_avant and all_onsets_sorted equal?\", are_equal)\n",
    "\n",
    "# Show differences if not equal\n",
    "if not are_equal:\n",
    "    diff_in_avant = np.setdiff1d(trialonset_avant_sorted, all_onsets_sorted)\n",
    "    diff_in_all = np.setdiff1d(all_onsets_sorted, trialonset_avant_sorted)\n",
    "    print(\"In trialonset_avant but not in all_onsets_sorted:\", diff_in_avant)\n",
    "    print(\"In all_onsets_sorted but not in trialonset_avant:\", diff_in_all)"
   ]
  },
  {
   "cell_type": "markdown",
   "id": "26db2f5a",
   "metadata": {},
   "source": [
    "# CSV file\n"
   ]
  },
  {
   "cell_type": "code",
   "execution_count": 6,
   "id": "702fda3d",
   "metadata": {},
   "outputs": [
    {
     "data": {
      "text/plain": [
       "Index(['Mouse Name', 'User (user_userName)', 'Ear tag',\n",
       "       'Start date (dd.mm.yy)', 'End date', 'Sex_bin', 'strain', 'mutations',\n",
       "       'Birth date', 'licence', 'DG', 'ExpEnd', 'Created on', 'Session',\n",
       "       'Session Date (yyymmdd)', 'Start Time (hhmmss)', 'Behavior Type',\n",
       "       'Session Type', 'Mouse Age (d)', 'Weight of Reference',\n",
       "       'Weight Session', 'Trial_onset', 'stim_onset', 'catch_onset',\n",
       "       'Responses_times', 'EMG', 'PtA', 'dCA1', 'mPFC', 'wM1', 'wS1', 'wS2',\n",
       "       'antM1'],\n",
       "      dtype='object')"
      ]
     },
     "execution_count": 6,
     "metadata": {},
     "output_type": "execute_result"
    }
   ],
   "source": [
    "import pandas as pd \n",
    "csv_data = pd.read_csv(\"data/Subject_Session_Selection.csv\", sep=\";\")\n",
    "csv_data.columns = csv_data.columns.str.strip() \n",
    "csv_data.columns"
   ]
  },
  {
   "cell_type": "code",
   "execution_count": 61,
   "id": "791363e6",
   "metadata": {},
   "outputs": [
    {
     "data": {
      "text/plain": [
       "Mouse Name                                                            PL208\n",
       "User (user_userName)                                                     PL\n",
       "Ear tag                                                             Unknown\n",
       "Start date (dd.mm.yy)                                            10.12.2014\n",
       "End date                                                         10.12.2014\n",
       "Sex_bin                                                                   m\n",
       "strain                                                           C57BL/6JRj\n",
       "mutations                                                                  \n",
       "Birth date                                                          Unknown\n",
       "licence                                                             Unknown\n",
       "DG                                                                         \n",
       "ExpEnd                                                                     \n",
       "Created on                                                          Unknown\n",
       "Session                                                      PL208_20141210\n",
       "Session Date (yyymmdd)                                             20141210\n",
       "Start Time (hhmmss)                                                  141711\n",
       "Behavior Type                                            Neutral Exposition\n",
       "Session Type                                               Whisker Rewarded\n",
       "Mouse Age (d)                                                       Unknown\n",
       "Weight of Reference                                                 Unknown\n",
       "Weight Session                                                      Unknown\n",
       "Trial_onset               14.452;37.039;55.441;72.134;87.931;112.423;135...\n",
       "stim_onset                55.441;72.134;87.931;135.522;158.516;214.403;2...\n",
       "catch_onset               14.452;37.039;112.423;180.208;194.204;237.795;...\n",
       "Responses_times           14.546;22.145;88.027;112.523;135.618;158.611;1...\n",
       "EMG                       8.933e-06;7.667e-06;-2.2e-05;-5.1e-06;2.3933e-...\n",
       "PtA                                                                     NaN\n",
       "dCA1                      0.00013680000000000002;0.0001108;9.2734e-05;8....\n",
       "mPFC                      -7.580000000000001e-05;-9.02e-05;-8.3466e-05;-...\n",
       "wM1                                                                     NaN\n",
       "wS1                                                                     NaN\n",
       "wS2                                                                     NaN\n",
       "antM1                     -0.000121534;-0.0001676;-0.000174334;-0.000143...\n",
       "Name: 9, dtype: object"
      ]
     },
     "execution_count": 61,
     "metadata": {},
     "output_type": "execute_result"
    }
   ],
   "source": [
    "csv_row = (dataframe_csv_file.iloc[9])\n",
    "csv_row"
   ]
  },
  {
   "cell_type": "code",
   "execution_count": 13,
   "id": "0119c1e4",
   "metadata": {},
   "outputs": [
    {
     "name": "stdout",
     "output_type": "stream",
     "text": [
      "dict_keys(['Catch_times', 'EMG', 'Performance', 'PtA', 'Session_Info', 'Stim_times', 'Valve_times', 'dCA1', 'lick', 'mPFC', 'wM1', 'wS1'])\n"
     ]
    }
   ],
   "source": [
    "# pip install mat73\n",
    "from mat73 import loadmat\n",
    "file_path = \"data/New_test/PLLA/WR+ mice/PL200_D1.mat\"\n",
    "pli = loadmat(file_path)   # dict Python\n",
    "print(pli.keys())\n"
   ]
  },
  {
   "cell_type": "code",
   "execution_count": 16,
   "id": "fd2bcfe8",
   "metadata": {},
   "outputs": [
    {
     "data": {
      "text/plain": [
       "1.0"
      ]
     },
     "execution_count": 16,
     "metadata": {},
     "output_type": "execute_result"
    }
   ],
   "source": [
    "float(pli[\"Session_Info\"][\"Session_Counter\"])"
   ]
  },
  {
   "cell_type": "code",
   "execution_count": 30,
   "id": "49c3d770",
   "metadata": {},
   "outputs": [
    {
     "data": {
      "text/plain": [
       "array([ 0.007667,  0.0025  ,  0.0054  , ...,  0.000967, -0.000633,\n",
       "       -0.001033])"
      ]
     },
     "execution_count": 30,
     "metadata": {},
     "output_type": "execute_result"
    }
   ],
   "source": [
    "pli[\"lick\"][\"data\"]"
   ]
  },
  {
   "cell_type": "code",
   "execution_count": null,
   "id": "7d274918",
   "metadata": {},
   "outputs": [
    {
     "data": {
      "text/html": [
       "<div>\n",
       "<style scoped>\n",
       "    .dataframe tbody tr th:only-of-type {\n",
       "        vertical-align: middle;\n",
       "    }\n",
       "\n",
       "    .dataframe tbody tr th {\n",
       "        vertical-align: top;\n",
       "    }\n",
       "\n",
       "    .dataframe thead th {\n",
       "        text-align: right;\n",
       "    }\n",
       "</style>\n",
       "<table border=\"1\" class=\"dataframe\">\n",
       "  <thead>\n",
       "    <tr style=\"text-align: right;\">\n",
       "      <th></th>\n",
       "      <th>Mouse Name</th>\n",
       "      <th>User (user_userName)</th>\n",
       "      <th>Ear tag</th>\n",
       "      <th>Start date (dd.mm.yy)</th>\n",
       "      <th>End date</th>\n",
       "      <th>Sex_bin</th>\n",
       "      <th>strain</th>\n",
       "      <th>mutations</th>\n",
       "      <th>Birth date</th>\n",
       "      <th>licence</th>\n",
       "      <th>...</th>\n",
       "      <th>Responses_times</th>\n",
       "      <th>EMG</th>\n",
       "      <th>PtA</th>\n",
       "      <th>dCA1</th>\n",
       "      <th>mPFC</th>\n",
       "      <th>wM1</th>\n",
       "      <th>wS1</th>\n",
       "      <th>wS2</th>\n",
       "      <th>antM1</th>\n",
       "      <th>EEG</th>\n",
       "    </tr>\n",
       "  </thead>\n",
       "  <tbody>\n",
       "    <tr>\n",
       "      <th>0</th>\n",
       "      <td>PL200</td>\n",
       "      <td>PL</td>\n",
       "      <td>Unknown</td>\n",
       "      <td>19.06.2014</td>\n",
       "      <td>19.06.2014</td>\n",
       "      <td>m</td>\n",
       "      <td>C57BL/6JRj</td>\n",
       "      <td></td>\n",
       "      <td>Unknown</td>\n",
       "      <td>1628</td>\n",
       "      <td>...</td>\n",
       "      <td>417.655;478.939;590.514;656.5;791.869;817.26;8...</td>\n",
       "      <td>1.4367e-05;4.53e-05;-4.7600000000000005e-05;-1...</td>\n",
       "      <td>2.266e-06;-4.6933999999999995e-05;2.5e-05;1.44...</td>\n",
       "      <td>0.00011766600000000001;0.000107534;0.0001252;0...</td>\n",
       "      <td>0.000100134;8.0066e-05;9.813399999999999e-05;8...</td>\n",
       "      <td>0.000147734;5.24e-05;0.00010920000000000001;0....</td>\n",
       "      <td>4.2134e-05;2.9134e-05;3.4734e-05;3.4734e-05;4....</td>\n",
       "      <td>NaN</td>\n",
       "      <td>NaN</td>\n",
       "      <td>NaN</td>\n",
       "    </tr>\n",
       "  </tbody>\n",
       "</table>\n",
       "<p>1 rows × 34 columns</p>\n",
       "</div>"
      ],
      "text/plain": [
       "  Mouse Name User (user_userName)  Ear tag Start date (dd.mm.yy)    End date  \\\n",
       "0      PL200                   PL  Unknown            19.06.2014  19.06.2014   \n",
       "\n",
       "  Sex_bin      strain mutations Birth date licence  ...  \\\n",
       "0       m  C57BL/6JRj              Unknown    1628  ...   \n",
       "\n",
       "                                     Responses_times  \\\n",
       "0  417.655;478.939;590.514;656.5;791.869;817.26;8...   \n",
       "\n",
       "                                                 EMG  \\\n",
       "0  1.4367e-05;4.53e-05;-4.7600000000000005e-05;-1...   \n",
       "\n",
       "                                                 PtA  \\\n",
       "0  2.266e-06;-4.6933999999999995e-05;2.5e-05;1.44...   \n",
       "\n",
       "                                                dCA1  \\\n",
       "0  0.00011766600000000001;0.000107534;0.0001252;0...   \n",
       "\n",
       "                                                mPFC  \\\n",
       "0  0.000100134;8.0066e-05;9.813399999999999e-05;8...   \n",
       "\n",
       "                                                 wM1  \\\n",
       "0  0.000147734;5.24e-05;0.00010920000000000001;0....   \n",
       "\n",
       "                                                 wS1  wS2 antM1  EEG  \n",
       "0  4.2134e-05;2.9134e-05;3.4734e-05;3.4734e-05;4....  NaN   NaN  NaN  \n",
       "\n",
       "[1 rows x 34 columns]"
      ]
     },
     "execution_count": 26,
     "metadata": {},
     "output_type": "execute_result"
    }
   ],
   "source": [
    "importlib.reload(converters.Initiation_nwb)\n",
    "Test = pd.DataFrame(columns=['Mouse Name', 'User (user_userName)', 'Ear tag',\n",
    "    'Start date (dd.mm.yy)', 'End date', 'Sex_bin', 'strain', 'mutations',\n",
    "    'Birth date', 'licence', 'DG', 'ExpEnd', 'Created on', 'Session',\n",
    "    'Session Date (yyymmdd)', 'Start Time (hhmmss)', 'Behavior Type',\n",
    "    'Session Type', 'Mouse Age (d)', 'Weight of Reference',\n",
    "    'Weight Session', 'Trial_onset', 'stim_onset', 'catch_onset',\n",
    "    'Responses_times', 'EMG', 'PtA', 'dCA1', 'mPFC', 'wM1', 'wS1', 'wS2',\n",
    "    'antM1', 'EEG'])\n",
    "datatest= converters.Initiation_nwb.files_to_dataframe(PL=PL, PLALL=\"data/test\", dataframe=Test)\n",
    "datatest"
   ]
  },
  {
   "cell_type": "markdown",
   "id": "e142f12d",
   "metadata": {},
   "source": [
    " # TOTAL _-_-_-_-_-_-_-_\n",
    " "
   ]
  },
  {
   "cell_type": "code",
   "execution_count": 2,
   "id": "e92243be",
   "metadata": {},
   "outputs": [],
   "source": [
    "Folder_general_info_server= \"/Volumes/Petersen-Lab/publications/2018/2018_LeMerre_Neuron/2018_LeMerre_Neuron_data/processed_data\"\n",
    "Folder_sessions_info_server = \"/Volumes/Petersen-Lab/analysis/Sylvain_Crochet/DATA_REPOSITORY/LeMerre_mPFC_2018/Chronic_LFPs_Preprocessed\"\n",
    "output_folder_serveur = \"/Volumes/Petersen-Lab/z_LSENS/Share/Loris_Fabbro/PL\"\n",
    "\n",
    "Folder_general_info_local = \"data/New_test/PL\"\n",
    "Folder_sessions_info_local = \"data/New_test/PLLA\"\n",
    "ouput_folder_local = \"data/New_test/output\"\n"
   ]
  },
  {
   "cell_type": "markdown",
   "id": "93fe09c3",
   "metadata": {},
   "source": [
    "# SERVEUR"
   ]
  },
  {
   "cell_type": "code",
   "execution_count": 19,
   "id": "74f8a39d",
   "metadata": {},
   "outputs": [
    {
     "name": "stdout",
     "output_type": "stream",
     "text": [
      "[('/Volumes/Petersen-Lab/publications/2018/2018_LeMerre_Neuron/2018_LeMerre_Neuron_data/processed_data/PL201', '/Volumes/Petersen-Lab/analysis/Sylvain_Crochet/DATA_REPOSITORY/LeMerre_mPFC_2018/Chronic_LFPs_Preprocessed/WR+ mice')]\n"
     ]
    },
    {
     "data": {
      "text/plain": [
       "'PL201'"
      ]
     },
     "execution_count": 19,
     "metadata": {},
     "output_type": "execute_result"
    }
   ],
   "source": [
    "\n",
    "importlib.reload(converters.Initiation_nwb)\n",
    "pairs = converters.Initiation_nwb.find_pl_pairs(Folder_general_info_server, Folder_sessions_info_server, mouse_names= [\"PL201\"])\n",
    "print(pairs)\n",
    "PL, PLLA =pairs[0]\n",
    "Path(PL).name"
   ]
  },
  {
   "cell_type": "code",
   "execution_count": 12,
   "id": "03448e11",
   "metadata": {},
   "outputs": [
    {
     "name": "stdout",
     "output_type": "stream",
     "text": [
      "**************************************************************************\n",
      "-_-_-_-_-_-_-_-_-_-_-_-_-_-_- NWB conversion _-_-_-_-_-_-_-_-_-_-_-_-_-_-_\n",
      "[('/Volumes/Petersen-Lab/publications/2018/2018_LeMerre_Neuron/2018_LeMerre_Neuron_data/processed_data/PL200', '/Volumes/Petersen-Lab/analysis/Sylvain_Crochet/DATA_REPOSITORY/LeMerre_mPFC_2018/Chronic_LFPs_Preprocessed/WR+ mice')]\n",
      "Converting data to NWB format for mouse:  ['PL200']\n"
     ]
    },
    {
     "name": "stderr",
     "output_type": "stream",
     "text": [
      "Processing...: 100%|██████████| 1/1 [05:58<00:00, 358.97s/file, Mouse :PL200 Session :PL200_20140626]"
     ]
    },
    {
     "name": "stdout",
     "output_type": "stream",
     "text": [
      "**************************************************************************\n"
     ]
    },
    {
     "name": "stderr",
     "output_type": "stream",
     "text": [
      "\n"
     ]
    }
   ],
   "source": [
    "Folder_general_info_server= \"/Volumes/Petersen-Lab/publications/2018/2018_LeMerre_Neuron/2018_LeMerre_Neuron_data/processed_data\"\n",
    "Folder_sessions_info_server = \"/Volumes/Petersen-Lab/analysis/Sylvain_Crochet/DATA_REPOSITORY/LeMerre_mPFC_2018/Chronic_LFPs_Preprocessed\"\n",
    "output_folder_serveur = \"/Volumes/Petersen-Lab/z_LSENS/Share/Loris_Fabbro/PL\"\n",
    "importlib.reload(convert_to_nwb_for_PL)\n",
    "nwb_path = convert_to_nwb_for_PL.convert_data_to_nwb_pl(output_folder= ouput_folder_local, Folder_sessions_info=Folder_sessions_info_server, Folder_general_info=Folder_general_info_server, mouses_name=[\"PL200\"])"
   ]
  },
  {
   "cell_type": "markdown",
   "id": "e554df8c",
   "metadata": {},
   "source": [
    "# LOCAL"
   ]
  },
  {
   "cell_type": "code",
   "execution_count": 6,
   "id": "a7e76caa",
   "metadata": {},
   "outputs": [
    {
     "name": "stdout",
     "output_type": "stream",
     "text": [
      "**************************************************************************\n",
      "-_-_-_-_-_-_-_-_-_-_-_-_-_-_- NWB conversion _-_-_-_-_-_-_-_-_-_-_-_-_-_-_\n",
      "Converting data to NWB format for mouse:  ['PL211']\n"
     ]
    },
    {
     "name": "stderr",
     "output_type": "stream",
     "text": [
      "Processing...: 100%|██████████| 1/1 [01:45<00:00, 105.63s/file, Mouse :PL211 Session :PL211_20140302]"
     ]
    },
    {
     "name": "stdout",
     "output_type": "stream",
     "text": [
      "**************************************************************************\n"
     ]
    },
    {
     "name": "stderr",
     "output_type": "stream",
     "text": [
      "\n"
     ]
    }
   ],
   "source": [
    "\n",
    "importlib.reload(convert_to_nwb_for_PL)\n",
    "\n",
    "nwb_path = convert_to_nwb_for_PL.convert_data_to_nwb_pl(output_folder=ouput_folder_local, Folder_sessions_info = Folder_sessions_info_local, Folder_general_info = Folder_general_info_local,mouses_name = [\"PL211\"])"
   ]
  },
  {
   "cell_type": "code",
   "execution_count": null,
   "id": "56a9777e",
   "metadata": {},
   "outputs": [],
   "source": [
    "importlib.reload(converters.Initiation_nwb)\n",
    "converters.Initiation_nwb.remove_nwb_files(\"data\")"
   ]
  },
  {
   "cell_type": "code",
   "execution_count": null,
   "id": "ed06bb7c",
   "metadata": {},
   "outputs": [],
   "source": []
  }
 ],
 "metadata": {
  "kernelspec": {
   "display_name": "lsens_nwb",
   "language": "python",
   "name": "python3"
  },
  "language_info": {
   "codemirror_mode": {
    "name": "ipython",
    "version": 3
   },
   "file_extension": ".py",
   "mimetype": "text/x-python",
   "name": "python",
   "nbconvert_exporter": "python",
   "pygments_lexer": "ipython3",
   "version": "3.9.23"
  }
 },
 "nbformat": 4,
 "nbformat_minor": 5
}
