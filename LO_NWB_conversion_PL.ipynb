{
 "cells": [
  {
   "cell_type": "markdown",
   "id": "71ac0b88",
   "metadata": {},
   "source": [
    "# Preprocessing .mat for NWB"
   ]
  },
  {
   "cell_type": "code",
   "execution_count": 1,
   "id": "eee9f332",
   "metadata": {},
   "outputs": [],
   "source": [
    "import numpy as np\n",
    "import h5py\n",
    "import os\n",
    "import yaml\n",
    "import pandas as pd\n",
    "from datetime import datetime\n",
    "import shutil\n",
    "import importlib\n",
    "import numpy as np\n",
    "import pandas as pd\n",
    "import convert_to_nwb_for_PL\n",
    "import converters.Initiation_nwb\n",
    "import scipy.io\n",
    "import warnings\n"
   ]
  },
  {
   "cell_type": "markdown",
   "id": "3b848cdc",
   "metadata": {},
   "source": [
    "# Load data "
   ]
  },
  {
   "cell_type": "markdown",
   "id": "0785ecbc",
   "metadata": {},
   "source": [
    "## .mat files"
   ]
  },
  {
   "cell_type": "code",
   "execution_count": 4,
   "id": "d94a3651",
   "metadata": {},
   "outputs": [],
   "source": [
    "csv_file = \"data/Subject_Session_Selection.csv\"\n",
    "PL = \"data/mouse/General\"\n",
    "PLALL = \"data/mouse/Recording\"\n",
    "PLALL_number1 = \"data/mouse/Recording/PL200_D1.mat\"\n",
    "output_folder = \"data\""
   ]
  },
  {
   "cell_type": "code",
   "execution_count": null,
   "id": "eff9387a",
   "metadata": {},
   "outputs": [],
   "source": [
    "PL200 = [os.path.join(PL, f) for f in os.listdir(PL)][0]\n",
    "PL200\n"
   ]
  },
  {
   "cell_type": "code",
   "execution_count": null,
   "id": "6b84ce12",
   "metadata": {},
   "outputs": [],
   "source": [
    "for file_name in sorted(os.listdir(PLALL)):\n",
    "    i += 1\n",
    "    file_path = os.path.join(PLALL, file_name)\n",
    "    if os.path.isfile(file_path) and file_name.endswith('.mat'):\n",
    "        print(f\"Processing file: {file_name}\")"
   ]
  },
  {
   "cell_type": "markdown",
   "id": "13ca4ff7",
   "metadata": {},
   "source": [
    "### General"
   ]
  },
  {
   "cell_type": "code",
   "execution_count": null,
   "id": "c7c3d58c",
   "metadata": {},
   "outputs": [],
   "source": [
    "from scipy.io import loadmat\n",
    "General_data = loadmat(PL200)"
   ]
  },
  {
   "cell_type": "code",
   "execution_count": null,
   "id": "f2e80769",
   "metadata": {},
   "outputs": [],
   "source": [
    "type(General_data)"
   ]
  },
  {
   "cell_type": "code",
   "execution_count": null,
   "id": "f23d0a51",
   "metadata": {},
   "outputs": [],
   "source": [
    "print(General_data.keys())\n"
   ]
  },
  {
   "cell_type": "code",
   "execution_count": null,
   "id": "13cba317",
   "metadata": {},
   "outputs": [],
   "source": [
    "print(General_data[\"__header__\"])\n"
   ]
  },
  {
   "cell_type": "code",
   "execution_count": null,
   "id": "4bcd4e15",
   "metadata": {},
   "outputs": [],
   "source": [
    "print(General_data[\"__version__\"])\n"
   ]
  },
  {
   "cell_type": "code",
   "execution_count": null,
   "id": "4bc68941",
   "metadata": {},
   "outputs": [],
   "source": [
    "print(General_data[\"__globals__\"])\n"
   ]
  },
  {
   "cell_type": "code",
   "execution_count": null,
   "id": "b699a92f",
   "metadata": {},
   "outputs": [],
   "source": [
    "\n",
    "print(General_data[\"LFP_Data\"])\n",
    "\n"
   ]
  },
  {
   "cell_type": "code",
   "execution_count": null,
   "id": "0f06e7d2",
   "metadata": {},
   "outputs": [],
   "source": [
    "# Mouse Name\n",
    "print(General_data[\"LFP_Data\"][0][0][0][0][0][0])\n"
   ]
  },
  {
   "cell_type": "code",
   "execution_count": null,
   "id": "ea897de2",
   "metadata": {},
   "outputs": [],
   "source": [
    "# id session \n",
    "print(General_data[\"LFP_Data\"][0][0][4])\n",
    "unique_values, unique_indices = np.unique(General_data[\"LFP_Data\"][0][0][4], return_index=True)\n",
    "print(\"Unique values:\", unique_values)\n",
    "print(\"Indices:\", unique_indices)\n",
    "\n"
   ]
  },
  {
   "cell_type": "code",
   "execution_count": null,
   "id": "561d09b4",
   "metadata": {},
   "outputs": [],
   "source": [
    "i=0\n",
    "# Start date (dd.mm.yy)\n",
    "print(General_data[\"LFP_Data\"][0][0][5][unique_indices[1]])\n",
    "\n",
    "# Start time (hhmmss)\n",
    "## hh\n",
    "hh = str(General_data[\"LFP_Data\"][0][0][5][unique_indices[i]][3][0][0])\n",
    "## mm\n",
    "if len(str(General_data[\"LFP_Data\"][0][0][5][unique_indices[i]][4][0][0])) == 1:\n",
    "    mm= \"0\" + str(General_data[\"LFP_Data\"][0][0][5][unique_indices[i]][4][0][0])\n",
    "else:\n",
    "    mm = str(General_data[\"LFP_Data\"][0][0][5][unique_indices[i]][4][0][0])\n",
    "## ss\n",
    "ss = str(General_data[\"LFP_Data\"][0][0][5][unique_indices[i]][5][0][0])\n",
    "\n",
    "start_time = hh + mm +  ss[:2]\n",
    "print(\"Start time:\", start_time)\n",
    "\n",
    "\n",
    "#Behavior Type\n",
    "print(str(General_data[\"LFP_Data\"][0][0][6][unique_indices[i]][0][0]))\n"
   ]
  },
  {
   "cell_type": "code",
   "execution_count": null,
   "id": "a06745ce",
   "metadata": {},
   "outputs": [],
   "source": [
    "# Strain\n",
    "print(General_data[\"LFP_Data\"][0][0][1][0][0][0])"
   ]
  },
  {
   "cell_type": "code",
   "execution_count": null,
   "id": "a2cd887d",
   "metadata": {},
   "outputs": [],
   "source": [
    "# sex \n",
    "print(General_data[\"LFP_Data\"][0][0][2][0][0][0])"
   ]
  },
  {
   "cell_type": "code",
   "execution_count": null,
   "id": "d5e24094",
   "metadata": {},
   "outputs": [],
   "source": [
    "# birth date \n",
    "print(str(General_data[\"LFP_Data\"][0][0][3][0][0][0][0]))"
   ]
  },
  {
   "cell_type": "code",
   "execution_count": null,
   "id": "2ce0e6b2",
   "metadata": {},
   "outputs": [],
   "source": [
    "# trial onset \n",
    "rien = unique_indices[1]\n",
    "trial = np.asarray(General_data[\"LFP_Data\"][0][0][8]).flatten()\n",
    "trialonset_avant= trial[0:rien]"
   ]
  },
  {
   "cell_type": "code",
   "execution_count": null,
   "id": "08ec7a6b",
   "metadata": {},
   "outputs": [],
   "source": [
    "\n",
    "print(General_data[\"LFP_Data_description\"])"
   ]
  },
  {
   "cell_type": "markdown",
   "id": "06ca0f91",
   "metadata": {},
   "source": [
    "### ALL (number1)"
   ]
  },
  {
   "cell_type": "code",
   "execution_count": null,
   "id": "d5df6c09",
   "metadata": {},
   "outputs": [],
   "source": [
    "from scipy.io import loadmat\n",
    "pli = loadmat(PLALL_number1)"
   ]
  },
  {
   "cell_type": "code",
   "execution_count": null,
   "id": "62b6ee8c",
   "metadata": {},
   "outputs": [],
   "source": [
    "pli.keys()"
   ]
  },
  {
   "cell_type": "code",
   "execution_count": null,
   "id": "1e9ffe08",
   "metadata": {},
   "outputs": [],
   "source": [
    "# Stim_times\n",
    "stim_onset= np.asarray(pli[\"Stim_times\"][0][0][1][0])/1000\n",
    "# Catch_times\n",
    "catch_onset = np.asarray(pli[\"Catch_times\"][0][0][0][0])/1000\n",
    "# trial_onset\n",
    "all_onsets = np.concatenate([stim_onset, catch_onset])\n",
    "all_onsets_sorted = np.sort(all_onsets)\n",
    "print(all_onsets_sorted)\n",
    "len(all_onsets_sorted)\n",
    "\n"
   ]
  },
  {
   "cell_type": "code",
   "execution_count": null,
   "id": "76d35d06",
   "metadata": {},
   "outputs": [],
   "source": [
    "Valve_times= np.asarray(pli[\"Valve_times\"][0][0][1][0])/1000\n",
    "Valve_times"
   ]
  },
  {
   "cell_type": "code",
   "execution_count": null,
   "id": "c6ba5a9c",
   "metadata": {},
   "outputs": [],
   "source": [
    "# Compare trialonset_avant and all_onsets_sorted\n",
    "trialonset_avant_sorted = np.sort(trialonset_avant)\n",
    "are_equal = np.array_equal(trialonset_avant_sorted, all_onsets_sorted)\n",
    "print(\"Are trialonset_avant and all_onsets_sorted equal?\", are_equal)\n",
    "\n",
    "# Show differences if not equal\n",
    "if not are_equal:\n",
    "    diff_in_avant = np.setdiff1d(trialonset_avant_sorted, all_onsets_sorted)\n",
    "    diff_in_all = np.setdiff1d(all_onsets_sorted, trialonset_avant_sorted)\n",
    "    print(\"In trialonset_avant but not in all_onsets_sorted:\", diff_in_avant)\n",
    "    print(\"In all_onsets_sorted but not in trialonset_avant:\", diff_in_all)"
   ]
  },
  {
   "cell_type": "markdown",
   "id": "26db2f5a",
   "metadata": {},
   "source": [
    "# CSV file\n"
   ]
  },
  {
   "cell_type": "code",
   "execution_count": 6,
   "id": "702fda3d",
   "metadata": {},
   "outputs": [
    {
     "data": {
      "text/plain": [
       "Index(['Mouse Name', 'User (user_userName)', 'Ear tag',\n",
       "       'Start date (dd.mm.yy)', 'End date', 'Sex_bin', 'strain', 'mutations',\n",
       "       'Birth date', 'licence', 'DG', 'ExpEnd', 'Created on', 'Session',\n",
       "       'Session Date (yyymmdd)', 'Start Time (hhmmss)', 'Behavior Type',\n",
       "       'Session Type', 'Mouse Age (d)', 'Weight of Reference',\n",
       "       'Weight Session', 'Trial_onset', 'stim_onset', 'catch_onset',\n",
       "       'Responses_times', 'EMG', 'PtA', 'dCA1', 'mPFC', 'wM1', 'wS1', 'wS2',\n",
       "       'antM1'],\n",
       "      dtype='object')"
      ]
     },
     "execution_count": 6,
     "metadata": {},
     "output_type": "execute_result"
    }
   ],
   "source": [
    "import pandas as pd \n",
    "csv_data = pd.read_csv(\"data/Subject_Session_Selection.csv\", sep=\";\")\n",
    "csv_data.columns = csv_data.columns.str.strip() \n",
    "csv_data.columns"
   ]
  },
  {
   "cell_type": "code",
   "execution_count": 61,
   "id": "791363e6",
   "metadata": {},
   "outputs": [
    {
     "data": {
      "text/plain": [
       "Mouse Name                                                            PL208\n",
       "User (user_userName)                                                     PL\n",
       "Ear tag                                                             Unknown\n",
       "Start date (dd.mm.yy)                                            10.12.2014\n",
       "End date                                                         10.12.2014\n",
       "Sex_bin                                                                   m\n",
       "strain                                                           C57BL/6JRj\n",
       "mutations                                                                  \n",
       "Birth date                                                          Unknown\n",
       "licence                                                             Unknown\n",
       "DG                                                                         \n",
       "ExpEnd                                                                     \n",
       "Created on                                                          Unknown\n",
       "Session                                                      PL208_20141210\n",
       "Session Date (yyymmdd)                                             20141210\n",
       "Start Time (hhmmss)                                                  141711\n",
       "Behavior Type                                            Neutral Exposition\n",
       "Session Type                                               Whisker Rewarded\n",
       "Mouse Age (d)                                                       Unknown\n",
       "Weight of Reference                                                 Unknown\n",
       "Weight Session                                                      Unknown\n",
       "Trial_onset               14.452;37.039;55.441;72.134;87.931;112.423;135...\n",
       "stim_onset                55.441;72.134;87.931;135.522;158.516;214.403;2...\n",
       "catch_onset               14.452;37.039;112.423;180.208;194.204;237.795;...\n",
       "Responses_times           14.546;22.145;88.027;112.523;135.618;158.611;1...\n",
       "EMG                       8.933e-06;7.667e-06;-2.2e-05;-5.1e-06;2.3933e-...\n",
       "PtA                                                                     NaN\n",
       "dCA1                      0.00013680000000000002;0.0001108;9.2734e-05;8....\n",
       "mPFC                      -7.580000000000001e-05;-9.02e-05;-8.3466e-05;-...\n",
       "wM1                                                                     NaN\n",
       "wS1                                                                     NaN\n",
       "wS2                                                                     NaN\n",
       "antM1                     -0.000121534;-0.0001676;-0.000174334;-0.000143...\n",
       "Name: 9, dtype: object"
      ]
     },
     "execution_count": 61,
     "metadata": {},
     "output_type": "execute_result"
    }
   ],
   "source": [
    "csv_row = (dataframe_csv_file.iloc[9])\n",
    "csv_row"
   ]
  },
  {
   "cell_type": "markdown",
   "id": "e65b150b",
   "metadata": {},
   "source": [
    "# TOTAL CSV"
   ]
  },
  {
   "cell_type": "code",
   "execution_count": 6,
   "id": "e6a468ec",
   "metadata": {},
   "outputs": [
    {
     "name": "stdout",
     "output_type": "stream",
     "text": [
      "Number of sessions: 10\n",
      "Number of files in PLALL: 11\n",
      "Processing session file: PL208_D1.mat\n",
      "Processing session file: PL208_D2.mat\n",
      "Processing session file: PL208_D3.mat\n",
      "Processing session file: PL208_D4.mat\n",
      "Processing session file: PL208_D5.mat\n",
      "Processing session file: PL208_D6.mat\n",
      "Processing session file: PL208_D7.mat\n",
      "Processing session file: PL208_D8.mat\n",
      "Processing session file: PL208_D9.mat\n",
      "Processing session file: PL208_D10.mat\n",
      "Index(['Mouse Name', 'User (user_userName)', 'Ear tag',\n",
      "       'Start date (dd.mm.yy)', 'End date', 'Sex_bin', 'strain', 'mutations',\n",
      "       'Birth date', 'licence', 'DG', 'ExpEnd', 'Created on', 'Session',\n",
      "       'Session Date (yyymmdd)', 'Start Time (hhmmss)', 'Behavior Type',\n",
      "       'Session Type', 'Mouse Age (d)', 'Weight of Reference',\n",
      "       'Weight Session', 'Trial_onset', 'stim_onset', 'catch_onset',\n",
      "       'Responses_times', 'EMG', 'PtA', 'dCA1', 'mPFC', 'wM1', 'wS1', 'wS2',\n",
      "       'antM1', 'EEG'],\n",
      "      dtype='object')\n"
     ]
    },
    {
     "data": {
      "text/html": [
       "<div>\n",
       "<style scoped>\n",
       "    .dataframe tbody tr th:only-of-type {\n",
       "        vertical-align: middle;\n",
       "    }\n",
       "\n",
       "    .dataframe tbody tr th {\n",
       "        vertical-align: top;\n",
       "    }\n",
       "\n",
       "    .dataframe thead th {\n",
       "        text-align: right;\n",
       "    }\n",
       "</style>\n",
       "<table border=\"1\" class=\"dataframe\">\n",
       "  <thead>\n",
       "    <tr style=\"text-align: right;\">\n",
       "      <th></th>\n",
       "      <th>Mouse Name</th>\n",
       "      <th>User (user_userName)</th>\n",
       "      <th>Ear tag</th>\n",
       "      <th>Start date (dd.mm.yy)</th>\n",
       "      <th>End date</th>\n",
       "      <th>Sex_bin</th>\n",
       "      <th>strain</th>\n",
       "      <th>mutations</th>\n",
       "      <th>Birth date</th>\n",
       "      <th>licence</th>\n",
       "      <th>...</th>\n",
       "      <th>Responses_times</th>\n",
       "      <th>EMG</th>\n",
       "      <th>PtA</th>\n",
       "      <th>dCA1</th>\n",
       "      <th>mPFC</th>\n",
       "      <th>wM1</th>\n",
       "      <th>wS1</th>\n",
       "      <th>wS2</th>\n",
       "      <th>antM1</th>\n",
       "      <th>EEG</th>\n",
       "    </tr>\n",
       "  </thead>\n",
       "  <tbody>\n",
       "    <tr>\n",
       "      <th>0</th>\n",
       "      <td>PL208</td>\n",
       "      <td>PL</td>\n",
       "      <td>Unknown</td>\n",
       "      <td>09.12.2014</td>\n",
       "      <td>09.12.2014</td>\n",
       "      <td>m</td>\n",
       "      <td>C57BL/6JRj</td>\n",
       "      <td></td>\n",
       "      <td>Unknown</td>\n",
       "      <td>1628</td>\n",
       "      <td>...</td>\n",
       "      <td>18.638;31.433;43.728;75.424;78.12;112.112;118....</td>\n",
       "      <td>6.2e-06;-1.4432999999999999e-05;-1.1667e-05;-2...</td>\n",
       "      <td>NaN</td>\n",
       "      <td>-0.0002752;-0.000268466;-0.0002386659999999999...</td>\n",
       "      <td>-0.0001342;-0.000113534;-9.02e-05;-0.000127666...</td>\n",
       "      <td>NaN</td>\n",
       "      <td>NaN</td>\n",
       "      <td>NaN</td>\n",
       "      <td>-9.0134e-05;-7.466599999999999e-05;-5.81339999...</td>\n",
       "      <td>NaN</td>\n",
       "    </tr>\n",
       "    <tr>\n",
       "      <th>1</th>\n",
       "      <td>PL208</td>\n",
       "      <td>PL</td>\n",
       "      <td>Unknown</td>\n",
       "      <td>10.12.2014</td>\n",
       "      <td>10.12.2014</td>\n",
       "      <td>m</td>\n",
       "      <td>C57BL/6JRj</td>\n",
       "      <td></td>\n",
       "      <td>Unknown</td>\n",
       "      <td>1628</td>\n",
       "      <td>...</td>\n",
       "      <td>14.546;22.145;88.027;112.523;135.618;158.611;1...</td>\n",
       "      <td>8.933e-06;7.667e-06;-2.2e-05;-5.1e-06;2.3933e-...</td>\n",
       "      <td>NaN</td>\n",
       "      <td>0.00013680000000000002;0.0001108;9.2734e-05;8....</td>\n",
       "      <td>-7.580000000000001e-05;-9.02e-05;-8.3466e-05;-...</td>\n",
       "      <td>NaN</td>\n",
       "      <td>NaN</td>\n",
       "      <td>NaN</td>\n",
       "      <td>-0.000121534;-0.0001676;-0.000174334;-0.000143...</td>\n",
       "      <td>NaN</td>\n",
       "    </tr>\n",
       "    <tr>\n",
       "      <th>2</th>\n",
       "      <td>PL208</td>\n",
       "      <td>PL</td>\n",
       "      <td>Unknown</td>\n",
       "      <td>11.12.2014</td>\n",
       "      <td>11.12.2014</td>\n",
       "      <td>m</td>\n",
       "      <td>C57BL/6JRj</td>\n",
       "      <td></td>\n",
       "      <td>Unknown</td>\n",
       "      <td>1628</td>\n",
       "      <td>...</td>\n",
       "      <td>24.521;56.311;84.204;108.602;124.797;142.194;1...</td>\n",
       "      <td>-0.000151967;-0.0001101;-4.28e-05;1.8033e-05;4...</td>\n",
       "      <td>NaN</td>\n",
       "      <td>5.3266e-05;1.066e-06;-3.7066e-05;3.81340000000...</td>\n",
       "      <td>1.8665999999999997e-05;-1.7999999999999997e-05...</td>\n",
       "      <td>NaN</td>\n",
       "      <td>NaN</td>\n",
       "      <td>NaN</td>\n",
       "      <td>9.4334e-05;1.8866000000000002e-05;-2.1866e-05;...</td>\n",
       "      <td>NaN</td>\n",
       "    </tr>\n",
       "    <tr>\n",
       "      <th>3</th>\n",
       "      <td>PL208</td>\n",
       "      <td>PL</td>\n",
       "      <td>Unknown</td>\n",
       "      <td>12.12.2014</td>\n",
       "      <td>12.12.2014</td>\n",
       "      <td>m</td>\n",
       "      <td>C57BL/6JRj</td>\n",
       "      <td></td>\n",
       "      <td>Unknown</td>\n",
       "      <td>1628</td>\n",
       "      <td>...</td>\n",
       "      <td>8.628;32.12;53.414;75.507;100.402;131.696;151....</td>\n",
       "      <td>-7.333e-06;2.03e-05;8.367e-06;9.567e-06;-5e-07...</td>\n",
       "      <td>NaN</td>\n",
       "      <td>7.02e-05;7.6066e-05;6.72e-05;7.9334e-05;7.0934...</td>\n",
       "      <td>-9.9934e-05;-0.000164;-0.000117466;-8.82e-05;-...</td>\n",
       "      <td>NaN</td>\n",
       "      <td>NaN</td>\n",
       "      <td>NaN</td>\n",
       "      <td>-6.1266e-05;-6.786599999999999e-05;-0.00010466...</td>\n",
       "      <td>NaN</td>\n",
       "    </tr>\n",
       "    <tr>\n",
       "      <th>4</th>\n",
       "      <td>PL208</td>\n",
       "      <td>PL</td>\n",
       "      <td>Unknown</td>\n",
       "      <td>13.12.2014</td>\n",
       "      <td>13.12.2014</td>\n",
       "      <td>m</td>\n",
       "      <td>C57BL/6JRj</td>\n",
       "      <td></td>\n",
       "      <td>Unknown</td>\n",
       "      <td>1628</td>\n",
       "      <td>...</td>\n",
       "      <td>7.57;25.562;44.955;116.94;151.132;295.199;334....</td>\n",
       "      <td>3.6567000000000004e-05;-3.8e-06;3.0233e-05;1.1...</td>\n",
       "      <td>NaN</td>\n",
       "      <td>-0.0001292;-5.0066e-05;-1.22e-05;-7.0266e-05;-...</td>\n",
       "      <td>-7.246600000000001e-05;4.466e-06;2.2666e-05;-4...</td>\n",
       "      <td>NaN</td>\n",
       "      <td>NaN</td>\n",
       "      <td>NaN</td>\n",
       "      <td>-6.2734e-05;3.9134e-05;7.0466e-05;1.2534e-05;4...</td>\n",
       "      <td>NaN</td>\n",
       "    </tr>\n",
       "    <tr>\n",
       "      <th>5</th>\n",
       "      <td>PL208</td>\n",
       "      <td>PL</td>\n",
       "      <td>Unknown</td>\n",
       "      <td>14.12.2014</td>\n",
       "      <td>14.12.2014</td>\n",
       "      <td>m</td>\n",
       "      <td>C57BL/6JRj</td>\n",
       "      <td></td>\n",
       "      <td>Unknown</td>\n",
       "      <td>1628</td>\n",
       "      <td>...</td>\n",
       "      <td>5.476;1986.385;2000.579;2018.672;2058.565;2098...</td>\n",
       "      <td>-1.1067000000000001e-05;2.433e-06;-2.266699999...</td>\n",
       "      <td>NaN</td>\n",
       "      <td>-6.6066e-05;-8.12e-05;-0.00010273400000000001;...</td>\n",
       "      <td>-0.000190934;-0.0002228;-0.0002072;-0.00016486...</td>\n",
       "      <td>NaN</td>\n",
       "      <td>NaN</td>\n",
       "      <td>NaN</td>\n",
       "      <td>-4.8666e-05;-0.00014333399999999998;-0.0001729...</td>\n",
       "      <td>NaN</td>\n",
       "    </tr>\n",
       "    <tr>\n",
       "      <th>6</th>\n",
       "      <td>PL208</td>\n",
       "      <td>PL</td>\n",
       "      <td>Unknown</td>\n",
       "      <td>15.12.2014</td>\n",
       "      <td>15.12.2014</td>\n",
       "      <td>m</td>\n",
       "      <td>C57BL/6JRj</td>\n",
       "      <td></td>\n",
       "      <td>Unknown</td>\n",
       "      <td>1628</td>\n",
       "      <td>...</td>\n",
       "      <td>13.481;242.788;296.177;325.169;377.856;448.641...</td>\n",
       "      <td>5.3067000000000005e-05;-7.467e-06;-0.0001653;-...</td>\n",
       "      <td>NaN</td>\n",
       "      <td>-0.00013000000000000002;-0.0002542;-0.0002162;...</td>\n",
       "      <td>-0.000155866;-0.00011899999999999999;-7.76e-05...</td>\n",
       "      <td>NaN</td>\n",
       "      <td>NaN</td>\n",
       "      <td>NaN</td>\n",
       "      <td>-0.0001242;-5.5734e-05;5.4334e-05;5.5266e-05;-...</td>\n",
       "      <td>NaN</td>\n",
       "    </tr>\n",
       "    <tr>\n",
       "      <th>7</th>\n",
       "      <td>PL208</td>\n",
       "      <td>PL</td>\n",
       "      <td>Unknown</td>\n",
       "      <td>16.12.2014</td>\n",
       "      <td>16.12.2014</td>\n",
       "      <td>m</td>\n",
       "      <td>C57BL/6JRj</td>\n",
       "      <td></td>\n",
       "      <td>Unknown</td>\n",
       "      <td>1628</td>\n",
       "      <td>...</td>\n",
       "      <td>10.68;80.359;117.752;306.907;341.299;365.393;3...</td>\n",
       "      <td>2.8133e-05;3.4633e-05;3.2867e-05;7.1267e-05;2....</td>\n",
       "      <td>NaN</td>\n",
       "      <td>3.36e-05;2.8734e-05;-1.1599999999999999e-05;-1...</td>\n",
       "      <td>7.9466e-05;5.4134e-05;3.7199999999999996e-05;3...</td>\n",
       "      <td>NaN</td>\n",
       "      <td>NaN</td>\n",
       "      <td>NaN</td>\n",
       "      <td>7.3934e-05;5.199999999999999e-06;6.934e-06;6.2...</td>\n",
       "      <td>NaN</td>\n",
       "    </tr>\n",
       "    <tr>\n",
       "      <th>8</th>\n",
       "      <td>PL208</td>\n",
       "      <td>PL</td>\n",
       "      <td>Unknown</td>\n",
       "      <td>17.12.2014</td>\n",
       "      <td>17.12.2014</td>\n",
       "      <td>m</td>\n",
       "      <td>C57BL/6JRj</td>\n",
       "      <td></td>\n",
       "      <td>Unknown</td>\n",
       "      <td>1628</td>\n",
       "      <td>...</td>\n",
       "      <td>12.369;44.323;104.307;126.002;169.095;211.683;...</td>\n",
       "      <td>1.2e-06;-8.233e-06;2.1e-06;1.6329999999999999e...</td>\n",
       "      <td>NaN</td>\n",
       "      <td>-7.7266e-05;-7.92e-05;-7.42e-05;-6.8066e-05;-7...</td>\n",
       "      <td>2.9e-05;1.4200000000000001e-05;-4.934e-06;4.90...</td>\n",
       "      <td>NaN</td>\n",
       "      <td>NaN</td>\n",
       "      <td>NaN</td>\n",
       "      <td>2.4334e-05;-3.34e-07;1.46e-05;2.7934e-05;-3.06...</td>\n",
       "      <td>NaN</td>\n",
       "    </tr>\n",
       "    <tr>\n",
       "      <th>9</th>\n",
       "      <td>PL208</td>\n",
       "      <td>PL</td>\n",
       "      <td>Unknown</td>\n",
       "      <td>18.12.2014</td>\n",
       "      <td>18.12.2014</td>\n",
       "      <td>m</td>\n",
       "      <td>C57BL/6JRj</td>\n",
       "      <td></td>\n",
       "      <td>Unknown</td>\n",
       "      <td>1628</td>\n",
       "      <td>...</td>\n",
       "      <td>10.295;63.981;233.642;251.437;277.43;375.606;4...</td>\n",
       "      <td>3.6670000000000002e-06;2.6e-05;-2.67e-07;9.033...</td>\n",
       "      <td>NaN</td>\n",
       "      <td>3.1933999999999996e-05;2.66e-05;6.26e-05;4.28e...</td>\n",
       "      <td>-0.0001098;-0.0001126;-7.7866e-05;-5.8066e-05;...</td>\n",
       "      <td>NaN</td>\n",
       "      <td>NaN</td>\n",
       "      <td>NaN</td>\n",
       "      <td>-9.24e-05;-0.000126266;-0.000126666;-8.92e-05;...</td>\n",
       "      <td>NaN</td>\n",
       "    </tr>\n",
       "  </tbody>\n",
       "</table>\n",
       "<p>10 rows × 34 columns</p>\n",
       "</div>"
      ],
      "text/plain": [
       "  Mouse Name User (user_userName)  Ear tag Start date (dd.mm.yy)    End date  \\\n",
       "0      PL208                   PL  Unknown            09.12.2014  09.12.2014   \n",
       "1      PL208                   PL  Unknown            10.12.2014  10.12.2014   \n",
       "2      PL208                   PL  Unknown            11.12.2014  11.12.2014   \n",
       "3      PL208                   PL  Unknown            12.12.2014  12.12.2014   \n",
       "4      PL208                   PL  Unknown            13.12.2014  13.12.2014   \n",
       "5      PL208                   PL  Unknown            14.12.2014  14.12.2014   \n",
       "6      PL208                   PL  Unknown            15.12.2014  15.12.2014   \n",
       "7      PL208                   PL  Unknown            16.12.2014  16.12.2014   \n",
       "8      PL208                   PL  Unknown            17.12.2014  17.12.2014   \n",
       "9      PL208                   PL  Unknown            18.12.2014  18.12.2014   \n",
       "\n",
       "  Sex_bin      strain mutations Birth date licence  ...  \\\n",
       "0       m  C57BL/6JRj              Unknown    1628  ...   \n",
       "1       m  C57BL/6JRj              Unknown    1628  ...   \n",
       "2       m  C57BL/6JRj              Unknown    1628  ...   \n",
       "3       m  C57BL/6JRj              Unknown    1628  ...   \n",
       "4       m  C57BL/6JRj              Unknown    1628  ...   \n",
       "5       m  C57BL/6JRj              Unknown    1628  ...   \n",
       "6       m  C57BL/6JRj              Unknown    1628  ...   \n",
       "7       m  C57BL/6JRj              Unknown    1628  ...   \n",
       "8       m  C57BL/6JRj              Unknown    1628  ...   \n",
       "9       m  C57BL/6JRj              Unknown    1628  ...   \n",
       "\n",
       "                                     Responses_times  \\\n",
       "0  18.638;31.433;43.728;75.424;78.12;112.112;118....   \n",
       "1  14.546;22.145;88.027;112.523;135.618;158.611;1...   \n",
       "2  24.521;56.311;84.204;108.602;124.797;142.194;1...   \n",
       "3  8.628;32.12;53.414;75.507;100.402;131.696;151....   \n",
       "4  7.57;25.562;44.955;116.94;151.132;295.199;334....   \n",
       "5  5.476;1986.385;2000.579;2018.672;2058.565;2098...   \n",
       "6  13.481;242.788;296.177;325.169;377.856;448.641...   \n",
       "7  10.68;80.359;117.752;306.907;341.299;365.393;3...   \n",
       "8  12.369;44.323;104.307;126.002;169.095;211.683;...   \n",
       "9  10.295;63.981;233.642;251.437;277.43;375.606;4...   \n",
       "\n",
       "                                                 EMG PtA  \\\n",
       "0  6.2e-06;-1.4432999999999999e-05;-1.1667e-05;-2... NaN   \n",
       "1  8.933e-06;7.667e-06;-2.2e-05;-5.1e-06;2.3933e-... NaN   \n",
       "2  -0.000151967;-0.0001101;-4.28e-05;1.8033e-05;4... NaN   \n",
       "3  -7.333e-06;2.03e-05;8.367e-06;9.567e-06;-5e-07... NaN   \n",
       "4  3.6567000000000004e-05;-3.8e-06;3.0233e-05;1.1... NaN   \n",
       "5  -1.1067000000000001e-05;2.433e-06;-2.266699999... NaN   \n",
       "6  5.3067000000000005e-05;-7.467e-06;-0.0001653;-... NaN   \n",
       "7  2.8133e-05;3.4633e-05;3.2867e-05;7.1267e-05;2.... NaN   \n",
       "8  1.2e-06;-8.233e-06;2.1e-06;1.6329999999999999e... NaN   \n",
       "9  3.6670000000000002e-06;2.6e-05;-2.67e-07;9.033... NaN   \n",
       "\n",
       "                                                dCA1  \\\n",
       "0  -0.0002752;-0.000268466;-0.0002386659999999999...   \n",
       "1  0.00013680000000000002;0.0001108;9.2734e-05;8....   \n",
       "2  5.3266e-05;1.066e-06;-3.7066e-05;3.81340000000...   \n",
       "3  7.02e-05;7.6066e-05;6.72e-05;7.9334e-05;7.0934...   \n",
       "4  -0.0001292;-5.0066e-05;-1.22e-05;-7.0266e-05;-...   \n",
       "5  -6.6066e-05;-8.12e-05;-0.00010273400000000001;...   \n",
       "6  -0.00013000000000000002;-0.0002542;-0.0002162;...   \n",
       "7  3.36e-05;2.8734e-05;-1.1599999999999999e-05;-1...   \n",
       "8  -7.7266e-05;-7.92e-05;-7.42e-05;-6.8066e-05;-7...   \n",
       "9  3.1933999999999996e-05;2.66e-05;6.26e-05;4.28e...   \n",
       "\n",
       "                                                mPFC wM1 wS1 wS2  \\\n",
       "0  -0.0001342;-0.000113534;-9.02e-05;-0.000127666... NaN NaN NaN   \n",
       "1  -7.580000000000001e-05;-9.02e-05;-8.3466e-05;-... NaN NaN NaN   \n",
       "2  1.8665999999999997e-05;-1.7999999999999997e-05... NaN NaN NaN   \n",
       "3  -9.9934e-05;-0.000164;-0.000117466;-8.82e-05;-... NaN NaN NaN   \n",
       "4  -7.246600000000001e-05;4.466e-06;2.2666e-05;-4... NaN NaN NaN   \n",
       "5  -0.000190934;-0.0002228;-0.0002072;-0.00016486... NaN NaN NaN   \n",
       "6  -0.000155866;-0.00011899999999999999;-7.76e-05... NaN NaN NaN   \n",
       "7  7.9466e-05;5.4134e-05;3.7199999999999996e-05;3... NaN NaN NaN   \n",
       "8  2.9e-05;1.4200000000000001e-05;-4.934e-06;4.90... NaN NaN NaN   \n",
       "9  -0.0001098;-0.0001126;-7.7866e-05;-5.8066e-05;... NaN NaN NaN   \n",
       "\n",
       "                                               antM1 EEG  \n",
       "0  -9.0134e-05;-7.466599999999999e-05;-5.81339999... NaN  \n",
       "1  -0.000121534;-0.0001676;-0.000174334;-0.000143... NaN  \n",
       "2  9.4334e-05;1.8866000000000002e-05;-2.1866e-05;... NaN  \n",
       "3  -6.1266e-05;-6.786599999999999e-05;-0.00010466... NaN  \n",
       "4  -6.2734e-05;3.9134e-05;7.0466e-05;1.2534e-05;4... NaN  \n",
       "5  -4.8666e-05;-0.00014333399999999998;-0.0001729... NaN  \n",
       "6  -0.0001242;-5.5734e-05;5.4334e-05;5.5266e-05;-... NaN  \n",
       "7  7.3934e-05;5.199999999999999e-06;6.934e-06;6.2... NaN  \n",
       "8  2.4334e-05;-3.34e-07;1.46e-05;2.7934e-05;-3.06... NaN  \n",
       "9  -9.24e-05;-0.000126266;-0.000126666;-8.92e-05;... NaN  \n",
       "\n",
       "[10 rows x 34 columns]"
      ]
     },
     "execution_count": 6,
     "metadata": {},
     "output_type": "execute_result"
    }
   ],
   "source": [
    "importlib.reload(converters.Initiation_nwb)\n",
    "dataframe_csv_file = converters.Initiation_nwb.files_to_csv(PL=PL, PLALL=PLALL, csv_file=csv_file)\n",
    "print(dataframe_csv_file.columns)\n",
    "dataframe_csv_file.head(30)"
   ]
  },
  {
   "cell_type": "code",
   "execution_count": null,
   "id": "9575ceb6",
   "metadata": {},
   "outputs": [],
   "source": [
    "importlib.reload(converters.Initiation_nwb)\n",
    "dataframe_csv_file = converters.Initiation_nwb.remove_rows_by_mouse_name(dataframe_csv_file, \"PL208\")\n",
    "dataframe_csv_file.to_csv(csv_file, sep=';', index=False)"
   ]
  },
  {
   "cell_type": "markdown",
   "id": "e142f12d",
   "metadata": {},
   "source": [
    " # TOTAL _-_-_-_-_-_-_-_\n",
    " "
   ]
  },
  {
   "cell_type": "code",
   "execution_count": 13,
   "id": "03448e11",
   "metadata": {},
   "outputs": [
    {
     "name": "stdout",
     "output_type": "stream",
     "text": [
      "**************************************************************************\n",
      "-_-_-_-_-_-_-_-_-_-_-_-_-_-_- NWB conversion _-_-_-_-_-_-_-_-_-_-_-_-_-_-_\n",
      "Converting data to NWB format for mouse: ['PL208_20141209', 'PL208_20141210', 'PL208_20141211', 'PL208_20141212', 'PL208_20141213', 'PL208_20141214', 'PL208_20141215', 'PL208_20141216', 'PL208_20141217', 'PL208_20141218']\n",
      "📃 Creating configs for NWB conversion :\n",
      "📑 Created NWB files :\n",
      "     o 📌 Add general metadata\n",
      "         - Subject metadata\n",
      "         - Session metadata\n",
      "         - Device metadata\n",
      "         - Extracellular electrophysiology metadata\n",
      " \n",
      "🔎 Validating NWB file before saving...\n",
      "     o ✅ File data/PL208_20141209_184651.nwb is valid, no errors detected and saved successfully.\n",
      "No forget to delete the testing purpose\n",
      "**************************************************************************\n"
     ]
    }
   ],
   "source": [
    "\n",
    "importlib.reload(convert_to_nwb_for_PL)\n",
    "nwb_path = convert_to_nwb_for_PL.convert_data_to_nwb_pl(csv_file=csv_file, output_folder=\"data\", mouses_name = [\"PL208\"])"
   ]
  },
  {
   "cell_type": "code",
   "execution_count": 46,
   "id": "56a9777e",
   "metadata": {},
   "outputs": [],
   "source": [
    "importlib.reload(converters.Initiation_nwb)\n",
    "converters.Initiation_nwb.remove_nwb_files(\"data\")"
   ]
  },
  {
   "cell_type": "code",
   "execution_count": null,
   "id": "6ede4c8d",
   "metadata": {},
   "outputs": [],
   "source": []
  }
 ],
 "metadata": {
  "kernelspec": {
   "display_name": "lsens_nwb",
   "language": "python",
   "name": "python3"
  },
  "language_info": {
   "codemirror_mode": {
    "name": "ipython",
    "version": 3
   },
   "file_extension": ".py",
   "mimetype": "text/x-python",
   "name": "python",
   "nbconvert_exporter": "python",
   "pygments_lexer": "ipython3",
   "version": "3.9.23"
  }
 },
 "nbformat": 4,
 "nbformat_minor": 5
}
